{
 "cells": [
  {
   "cell_type": "markdown",
   "metadata": {},
   "source": [
    "# Tutorial ASAC\n",
    "\n",
    "    \n",
    " ## Active Sensing using Actor-Critic Models"
   ]
  },
  {
   "cell_type": "markdown",
   "metadata": {},
   "source": [
    "This tutorial shows how to use ASAC to do active sensing. Follow link [ASAC](https://static1.squarespace.com/static/59d5ac1780bd5ef9c396eda6/t/5d4736c0f352bf000130a3c2/1564948163734/Yoon.pdf) for more details. We are using the synthetic dataset (used in Section 4.3.1) as an example."
   ]
  },
  {
   "cell_type": "markdown",
   "metadata": {},
   "source": [
    "Load Necessary Packages and Functions"
   ]
  },
  {
   "cell_type": "code",
   "execution_count": null,
   "metadata": {},
   "outputs": [],
   "source": [
    "#%% Necessary Packages\n",
    "import numpy as np\n",
    "from tqdm import tqdm\n",
    "from sklearn.metrics import mean_squared_error\n",
    "\n",
    "#%% Function Call\n",
    "# X, Y Generation\n",
    "'''\n",
    "X: Generated from AR_Gauss\n",
    "Y: Generated from SYN1\n",
    "'''\n",
    "from Data_Generation_X import AR_Gauss_X1\n",
    "from Data_Generation_Y import Syn_Generation_Y1\n",
    "\n",
    "# ASAC\n",
    "from ASAC import ASAC\n",
    "\n",
    "# Predictor after selection\n",
    "from Predictor_G import Predictor_G"
   ]
  },
  {
   "cell_type": "markdown",
   "metadata": {},
   "source": [
    "Data Generation Parameters Assign"
   ]
  },
  {
   "cell_type": "code",
   "execution_count": null,
   "metadata": {},
   "outputs": [],
   "source": [
    " # Parameters\n",
    "n = 10000\n",
    "d = 10\n",
    "t = 9\n",
    "    \n",
    "# Phi and W for X Generation    \n",
    "phi = np.asarray([0,0.1,0.2,0.3,0.4,0.5,0.6,0.7,0.8,0.9])\n",
    "W = np.asarray([0.1,0.1,0.1,0.1,0.1,0.1,0.1,0.1,0.1,0.1])\n",
    "    \n",
    "# X, Y Variance\n",
    "sigma_X = 1\n",
    "sigma_Y = 0.1       "
   ]
  },
  {
   "cell_type": "markdown",
   "metadata": {},
   "source": [
    "Data Generation"
   ]
  },
  {
   "cell_type": "code",
   "execution_count": null,
   "metadata": {},
   "outputs": [],
   "source": [
    "trainX = AR_Gauss_X1 (n, d, t, phi, sigma_X)            \n",
    "testX = AR_Gauss_X1 (n, d, t, phi, sigma_X) \n",
    "        \n",
    "trainY = Syn_Generation_Y1(trainX, W, sigma_Y)\n",
    "testY = Syn_Generation_Y1(testX, W, sigma_Y)"
   ]
  },
  {
   "cell_type": "markdown",
   "metadata": {},
   "source": [
    "Cost Value Define"
   ]
  },
  {
   "cell_type": "code",
   "execution_count": null,
   "metadata": {},
   "outputs": [],
   "source": [
    "cost_coef = 2\n",
    "cost = cost_coef * np.asarray([1,1,1,1,1,1,1,1,1,1])"
   ]
  },
  {
   "cell_type": "markdown",
   "metadata": {},
   "source": [
    "Run ASAC \n",
    "\n",
    "Inputs: trainX, trainY, testX, cost\n",
    "Outputs: selected features in training and testing set"
   ]
  },
  {
   "cell_type": "code",
   "execution_count": null,
   "metadata": {},
   "outputs": [],
   "source": [
    "trainG_hat, testG_hat = ASAC(trainX, trainY, testX, cost) "
   ]
  },
  {
   "cell_type": "markdown",
   "metadata": {},
   "source": [
    "Run Predictive Model only with Selected Features"
   ]
  },
  {
   "cell_type": "code",
   "execution_count": null,
   "metadata": {},
   "outputs": [],
   "source": [
    "testY_hat = Predictor_G(trainX, testX, trainY, trainG_hat, testG_hat)"
   ]
  },
  {
   "cell_type": "markdown",
   "metadata": {},
   "source": [
    "Performance Measure"
   ]
  },
  {
   "cell_type": "code",
   "execution_count": null,
   "metadata": {},
   "outputs": [],
   "source": [
    "Output = np.zeros([(2*d+1)])\n",
    "\n",
    "Temp_TPR  = np.zeros([d,])\n",
    "Temp_RMSE = 0        \n",
    "            \n",
    "for i in range(n):\n",
    "            \n",
    "    for mm in range(d):\n",
    "                \n",
    "        Temp_TPR[mm] = Temp_TPR[mm] + np.sum(testG_hat[i][:,mm])\n",
    "                    \n",
    "    Temp_RMSE = Temp_RMSE + (mean_squared_error(testY[i],testY_hat[i]))\n",
    "            \n",
    "    for mm in range(d):\n",
    "        Output[mm]  = Temp_TPR[mm]  / float(n*t)\n",
    "                \n",
    "    Output[d] = np.sqrt(Temp_RMSE / float(n))  "
   ]
  },
  {
   "cell_type": "markdown",
   "metadata": {},
   "source": [
    "Print Performance"
   ]
  },
  {
   "cell_type": "code",
   "execution_count": null,
   "metadata": {},
   "outputs": [],
   "source": [
    "print('Results with Cost '+str(cost_coef) + ' :')\n",
    "print('Selected Ratio: ')\n",
    "print(np.round(Output[:10],3))\n",
    "        \n",
    "print('RMSE: ')\n",
    "print(Output[10])"
   ]
  },
  {
   "cell_type": "code",
   "execution_count": null,
   "metadata": {},
   "outputs": [],
   "source": []
  }
 ],
 "metadata": {
  "kernelspec": {
   "display_name": "Python 3",
   "language": "python",
   "name": "python3"
  },
  "language_info": {
   "codemirror_mode": {
    "name": "ipython",
    "version": 3
   },
   "file_extension": ".py",
   "mimetype": "text/x-python",
   "name": "python",
   "nbconvert_exporter": "python",
   "pygments_lexer": "ipython3",
   "version": "3.6.5"
  }
 },
 "nbformat": 4,
 "nbformat_minor": 2
}
