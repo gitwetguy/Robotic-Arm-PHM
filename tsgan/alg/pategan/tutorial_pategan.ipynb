{
 "cells": [
  {
   "cell_type": "markdown",
   "metadata": {},
   "source": [
    "# Tutorial PATE-GAN\n",
    "\n",
    "## Generating Synthetic Data with Differential Privacy Guarantees \n",
    "\n",
    "This tutorial shows how to use [PATE-GAN](https://openreview.net/forum?id=S1zk9iRqF7). We are using the UCI spam dataset.\n",
    "\n",
    "See [installation instructions](../../doc/install.md) to install the dependencies.\n",
    "\n",
    "Load dataset and show the first five samples:"
   ]
  },
  {
   "cell_type": "code",
   "execution_count": null,
   "metadata": {},
   "outputs": [],
   "source": [
    "import pandas as pd\n",
    "from collections import Counter\n",
    "import initpath_alg\n",
    "initpath_alg.init_sys_path()\n",
    "import utilmlab\n",
    "\n",
    "fn_csv = '{}/spambase.csv.gz'.format(utilmlab.get_data_dir())\n",
    "df = pd.read_csv(fn_csv)  # get UCI spam dataset\n",
    "target = 'label'\n",
    "\n",
    "df.head()"
   ]
  },
  {
   "cell_type": "markdown",
   "metadata": {},
   "source": [
    "Split the dataset and save the training and test data in separate csv files:"
   ]
  },
  {
   "cell_type": "code",
   "execution_count": null,
   "metadata": {},
   "outputs": [],
   "source": [
    "import numpy as np\n",
    "\n",
    "train_ratio = 0.8\n",
    "fn_train = 'train.csv'\n",
    "fn_test = 'test.csv'\n",
    "\n",
    "idx = np.random.permutation(len(df))\n",
    "\n",
    "train_idx = idx[:int(train_ratio * len(df))]\n",
    "test_idx = idx[int(train_ratio * len(df)):]\n",
    "        \n",
    "df_train = df.iloc[train_idx]\n",
    "df_test = df.iloc[test_idx]\n",
    "\n",
    "df_train.to_csv(fn_train, index=False)\n",
    "df_test.to_csv(fn_test, index=False)"
   ]
  },
  {
   "cell_type": "markdown",
   "metadata": {},
   "source": [
    "Run PATE-GAN:"
   ]
  },
  {
   "cell_type": "code",
   "execution_count": null,
   "metadata": {},
   "outputs": [],
   "source": [
    "python_exe='python3'\n",
    "niter=10000\n",
    "fn_o_train = 'otrain.csv'\n",
    "fn_o_test =  'otest.csv'\n",
    "teachers = 50  # use a reduced number of teachers to limit the execution time\n",
    "epsilon = 1\n",
    "delta = 5\n",
    "\n",
    "cmd_arg = '--iter {} --target {} --itrain {} --itest {} --otrain {} --otest {} --teachers {} --epsilon {} --delta {}'.format(niter, target, fn_train, fn_test, fn_o_train, fn_o_test, teachers, epsilon, delta)\n",
    "!{python_exe} pategan.py {cmd_arg}"
   ]
  },
  {
   "cell_type": "markdown",
   "metadata": {},
   "source": [
    "Train a classifier on synthetic data and evaluate on the original test data and compare the AUCROC score with that of the same classifier on the original data."
   ]
  },
  {
   "cell_type": "code",
   "execution_count": null,
   "metadata": {},
   "outputs": [],
   "source": [
    "from sklearn.linear_model import LogisticRegression\n",
    "from sklearn import metrics\n",
    "from collections import Counter\n",
    "\n",
    "\n",
    "def train_evaluate(df_trn, df_tst):\n",
    "    model = LogisticRegression(solver='lbfgs', max_iter=4000)\n",
    "\n",
    "    features = list(df_trn.columns)\n",
    "    features.remove(target)\n",
    "\n",
    "    model.fit(df_trn[features], df_trn[target])\n",
    "    pred_proba = model.predict_proba(df_tst[features])\n",
    "    return metrics.roc_auc_score(df_tst[target], pred_proba[:,1])\n",
    "\n",
    "auc = dict()\n",
    "auc['org'] = train_evaluate(df_train, df_test)\n",
    "\n",
    "df_pategan_train = pd.read_csv(fn_o_train)\n",
    "\n",
    "auc['pategan'] = train_evaluate(df_pategan_train, df_test)\n",
    "    \n",
    "print('aucroc orignal data {:0.4f} auc synthetic data {:0.4f}'.format(auc['org'], auc['pategan']))"
   ]
  }
 ],
 "metadata": {
  "kernelspec": {
   "display_name": "Python 3",
   "language": "python",
   "name": "python3"
  },
  "language_info": {
   "codemirror_mode": {
    "name": "ipython",
    "version": 3
   },
   "file_extension": ".py",
   "mimetype": "text/x-python",
   "name": "python",
   "nbconvert_exporter": "python",
   "pygments_lexer": "ipython3",
   "version": "3.7.2"
  }
 },
 "nbformat": 4,
 "nbformat_minor": 2
}
