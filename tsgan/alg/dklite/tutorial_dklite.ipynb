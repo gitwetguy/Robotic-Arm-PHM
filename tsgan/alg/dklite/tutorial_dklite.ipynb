{
 "cells": [
  {
   "cell_type": "markdown",
   "metadata": {},
   "source": [
    "# Learning Overlapping Representations for the Estimation of Individualized Treatment Effects (AISTATS 2020)\n",
    "\n",
    "In this notebook, we show how to use DKLITE to estimate Individualized Treatment Effect (ITE) on an IHDP simulation. In the experiment, we demonstrate DKLITE can learn a smooth data representation via variance minimization, and leverage the predicted variance to improve prediction performance.\n",
    "\n"
   ]
  },
  {
   "cell_type": "code",
   "execution_count": null,
   "metadata": {},
   "outputs": [],
   "source": [
    "from model import DKLITE\n",
    "from utils_ import *\n",
    "import pickle\n",
    "\n",
    "\n",
    "''' Import a simluated IHDP data '''\n",
    "X_train, Y_train, W_train, X_test, T_true_train, T_true_test =  pickle.load(open('data/ihdp_simulation.pickle', 'rb'))\n",
    "\n",
    "''' Compute the sample size of training and testing set '''\n",
    "N_train,input_dim = np.shape(X_train)\n",
    "N_test = np.shape(X_test)[0]\n",
    "\n"
   ]
  },
  {
   "cell_type": "markdown",
   "metadata": {},
   "source": [
    "Train DKLITE on the IHDP data and report the square root of PEHE"
   ]
  },
  {
   "cell_type": "code",
   "execution_count": null,
   "metadata": {},
   "outputs": [],
   "source": [
    "\n",
    "''' Model Training'''\n",
    "model = DKLITE(input_dim=input_dim, num_sample=N_train, num_sample_u=N_test,num_hidden=50, outcome_type='continuous')\n",
    "\n",
    "model.fit(X_train, Y_train, W_train, X_test, 10000)\n",
    "\n",
    "\n",
    "''' Predict the treated and control outcomes'''\n",
    "Y_hat_train, Y_hat_test = model.pred(X_train, Y_train, W_train, X_test)\n",
    "\n",
    "\n",
    "''' Compute the square root of PEHE'''\n",
    "r_PEHE_train = compute_PEHE(Y_hat_train[:,1]-Y_hat_train[:,0],T_true_train)\n",
    "\n",
    "r_PEHE_test = compute_PEHE(Y_hat_test[:,1]-Y_hat_test[:,0], T_true_test)\n",
    "\n",
    "\n",
    "\n",
    "print('r-PEHE_train:', r_PEHE_train, 'r-PEHE_test:', r_PEHE_test)"
   ]
  },
  {
   "cell_type": "markdown",
   "metadata": {},
   "source": [
    "Now we use T-SNE to compare compare the the raw data with the represented data via the feature map in DKLITE. We first show the embedded control and treated group, in purple and yellow, respectively. Then we show the heatmap w.r.t the predictive control outcomes."
   ]
  },
  {
   "cell_type": "code",
   "execution_count": null,
   "metadata": {},
   "outputs": [],
   "source": [
    "''' Visualize the T-SNE embedding of the raw data'''\n",
    "plot_tnse_embedding(X_train, Y_train, W_train)"
   ]
  },
  {
   "cell_type": "markdown",
   "metadata": {},
   "source": [
    "Now we demonstrate the predictive variance can improve the model performance by removing uncertain predictions. We remove the data points one by one according to their predictive variances from the largest to the smallest. As a comparison, we show the PEHE obtained by removing data according to true estimation error from the largest to the smallest. We demonstrate the predictive variance of DKLITE can improve model performance by removing the top 10% most uncertain prediction."
   ]
  },
  {
   "cell_type": "code",
   "execution_count": null,
   "metadata": {},
   "outputs": [],
   "source": [
    "''' Compute the data representation'''\n",
    "Z_embedding = model.embed(X_train, Y_train, W_train, X_test)\n",
    "\n",
    "''' Visualize the T-SNE embedding of the data representation'''\n",
    "plot_tnse_embedding(Z_embedding, Y_hat_train, W_train)"
   ]
  },
  {
   "cell_type": "code",
   "execution_count": null,
   "metadata": {},
   "outputs": [],
   "source": [
    "\n",
    "\n",
    "''' Compute the predictive variance of each input data '''\n",
    "var_0_tr,var_1_tr,var_0_te,var_1_te = model.element_var(X_train, Y_train, W_train, X_test)\n"
   ]
  },
  {
   "cell_type": "code",
   "execution_count": null,
   "metadata": {},
   "outputs": [],
   "source": [
    "error_ground_true, error_variance  = remove_uncertain_data(var_0_tr, var_1_tr, T_true_train, Y_hat_train)\n",
    "\n",
    "print('Error after removing data w.r.t predictive variance:',error_variance)\n",
    "\n",
    "print('Error after removing data w.r.t ground true error:',error_ground_true)"
   ]
  },
  {
   "cell_type": "code",
   "execution_count": null,
   "metadata": {},
   "outputs": [],
   "source": []
  }
 ],
 "metadata": {
  "kernelspec": {
   "display_name": "Python 3",
   "language": "python",
   "name": "python3"
  },
  "language_info": {
   "codemirror_mode": {
    "name": "ipython",
    "version": 3
   },
   "file_extension": ".py",
   "mimetype": "text/x-python",
   "name": "python",
   "nbconvert_exporter": "python",
   "pygments_lexer": "ipython3",
   "version": "3.6.10"
  }
 },
 "nbformat": 4,
 "nbformat_minor": 2
}
