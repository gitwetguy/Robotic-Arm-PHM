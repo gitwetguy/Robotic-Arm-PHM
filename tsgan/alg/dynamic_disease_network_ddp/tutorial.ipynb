{
 "cells": [
  {
   "cell_type": "markdown",
   "metadata": {},
   "source": [
    "# Tutorial"
   ]
  },
  {
   "cell_type": "code",
   "execution_count": 1,
   "metadata": {
    "pycharm": {
     "is_executing": false
    }
   },
   "outputs": [],
   "source": [
    "import pickle\n",
    "import torch\n",
    "import torch.optim as optim\n",
    "import numpy as np\n",
    "import matplotlib\n",
    "import matplotlib.pyplot as plt\n",
    "import data_loader\n",
    "import models\n"
   ]
  },
  {
   "cell_type": "markdown",
   "metadata": {},
   "source": [
    "## Loading data\n",
    "\n",
    "Each event sequence is represented as a list of dictionaries. The dictionary represent when and what event has happens. The following gives the first three events in the first training sequene.\n"
   ]
  },
  {
   "cell_type": "code",
   "execution_count": 2,
   "metadata": {
    "pycharm": {
     "name": "#%%\n"
    }
   },
   "outputs": [
    {
     "data": {
      "text/plain": [
       "[{'idx_event': 1,\n",
       "  'type_event': 9,\n",
       "  'time_since_start': 0.01705424730918858,\n",
       "  'time_since_last_event': 0.01705424730918858,\n",
       "  'time_since_last_same_event': 0.01705424730918858},\n",
       " {'idx_event': 2,\n",
       "  'type_event': 40,\n",
       "  'time_since_start': 0.01773276790150446,\n",
       "  'time_since_last_event': 0.0006785205923158823,\n",
       "  'time_since_last_same_event': 0.01773276790150446},\n",
       " {'idx_event': 3,\n",
       "  'type_event': 10,\n",
       "  'time_since_start': 0.018065941823793098,\n",
       "  'time_since_last_event': 0.00033317392228863693,\n",
       "  'time_since_last_same_event': 0.018065941823793098}]"
      ]
     },
     "execution_count": 2,
     "metadata": {},
     "output_type": "execute_result"
    }
   ],
   "source": [
    "with open('data/test_ev50_big.pkl', 'rb') as handle:\n",
    "    train_data = pickle.load(handle)\n",
    "\n",
    "\n",
    "train_data['train'] += train_data['dev']\n",
    "train_data['train'] += (train_data['test'])\n",
    "\n",
    "train_data['train'][0][:3]"
   ]
  },
  {
   "cell_type": "markdown",
   "metadata": {},
   "source": [
    "The `process_seq` helper function converts the sequence from a list to several numpy arraies, encoding information such as event time and event type."
   ]
  },
  {
   "cell_type": "code",
   "execution_count": 3,
   "metadata": {},
   "outputs": [],
   "source": [
    "max_len = 20\n",
    "n_event_type = dim_process = 50\n",
    "n_sample = 10000\n",
    "context_dim = 1\n",
    "\n",
    "train_input = data_loader.process_seq(train_data, list(range(n_sample)), max_len=max_len, n_event_type=n_event_type,\n",
    "                                      tag_batch='train', dtype=np.float32)\n"
   ]
  },
  {
   "cell_type": "markdown",
   "metadata": {},
   "source": [
    "The simulation data set does not contain static feature, so we create dummies (a matrix with all ones) as the static feature."
   ]
  },
  {
   "cell_type": "code",
   "execution_count": 4,
   "metadata": {},
   "outputs": [],
   "source": [
    "batch_input_np = list(train_input)\n",
    "df_patient_static_mat = np.ones((1, n_sample)).astype('float32')\n",
    "batch_input_np.append(df_patient_static_mat)\n",
    "\n",
    "\n",
    "gap = batch_input_np[0][:-1, :] - batch_input_np[0][1:, :]\n",
    "gap_mean = np.mean(gap)\n",
    "gap_std = np.std(gap)\n",
    "\n"
   ]
  },
  {
   "cell_type": "markdown",
   "metadata": {},
   "source": [
    "Loading the ground-truth model that generated the data."
   ]
  },
  {
   "cell_type": "code",
   "execution_count": 5,
   "metadata": {},
   "outputs": [],
   "source": [
    "\n",
    "with open('data/model_test_ev50_big.pkl', 'rb') as handle:\n",
    "    true_model = pickle.load(handle)\n",
    "\n",
    "\n",
    "true_alpha = true_model['alpha'] / true_model['delta']\n",
    "true_lambda = true_model['delta']\n"
   ]
  },
  {
   "cell_type": "markdown",
   "metadata": {},
   "source": [
    "## Training model\n",
    "\n",
    "First we defined the model the the optimizer in the standard way. We compare the DDP with the Hawkes process."
   ]
  },
  {
   "cell_type": "code",
   "execution_count": 6,
   "metadata": {},
   "outputs": [],
   "source": [
    "alpha_init = np.float32(\n",
    "    np.log(\n",
    "        np.random.uniform(\n",
    "            low=0.5, high=1.5,\n",
    "            size=(dim_process, dim_process)\n",
    "        )\n",
    "    )\n",
    ")\n",
    "\n",
    "lambda_init = np.float32(\n",
    "    np.log(\n",
    "        np.random.uniform(\n",
    "            low=10.0, high=20.0,\n",
    "            size=(dim_process, dim_process)\n",
    "        )\n",
    "    )\n",
    ")\n",
    "\n",
    "ddp_model = models.DDP(\n",
    "    n_event_type=n_event_type, \n",
    "    n_context_dim=context_dim, \n",
    "    first_occurrence_only=False, \n",
    "    embedding_size=50, \n",
    "    rnn_hidden_size=50,\n",
    "    alpha_mat_np=alpha_init,\n",
    "    lambda_mat_np=lambda_init,\n",
    "    gap_mean=gap_mean, \n",
    "    gap_scale=gap_std\n",
    ")\n",
    "opt_ddp = optim.SGD(ddp_model.parameters(), lr=0.001, momentum=0.9)\n",
    "\n",
    "c_hawkes_model = models.CHawkes(n_event_type=n_event_type, n_context_dim=context_dim,\n",
    "                                first_occurrence_only=False, alpha_mat_np=alpha_init, lambda_mat_np=lambda_init)\n",
    "opt_c_hawkes = optim.SGD(c_hawkes_model.parameters(), lr = 0.001, momentum=0.9)\n",
    "\n",
    "with torch.no_grad():\n",
    "    test_batch = data_loader.get_whole_batch(batch_input_np)\n",
    "\n"
   ]
  },
  {
   "cell_type": "markdown",
   "metadata": {},
   "source": [
    "Setting up training parameters."
   ]
  },
  {
   "cell_type": "code",
   "execution_count": 7,
   "metadata": {},
   "outputs": [],
   "source": [
    "\n",
    "with torch.no_grad():\n",
    "    test_batch = data_loader.get_whole_batch(batch_input_np)\n",
    "\n",
    "\n",
    "mat_dist_ddp = list()\n",
    "mat_dist_hawkes = list()\n",
    "\n",
    "rnn_sd = list()\n",
    "\n",
    "batch_size = 100\n",
    "training_itr = 1000\n",
    "report_step = 1\n",
    "\n",
    "current_best = 10000"
   ]
  },
  {
   "cell_type": "markdown",
   "metadata": {},
   "source": [
    "We start the training iteration."
   ]
  },
  {
   "cell_type": "code",
   "execution_count": 8,
   "metadata": {},
   "outputs": [],
   "source": [
    "\n",
    "for i in range(training_itr):\n",
    "    \n",
    "    if i % report_step == 0:\n",
    "        with torch.no_grad():\n",
    "            test_batch = data_loader.get_whole_batch(batch_input_np)\n",
    "\n",
    "            ddp_model.set_input(*test_batch)\n",
    "\n",
    "            weights = ddp_model.graph_weights_seq.numpy()\n",
    "            rnn_sd.append(np.std(weights))\n",
    "\n",
    "            avg_weight_list = list()\n",
    "\n",
    "            a = test_batch[4].numpy()\n",
    "            b = test_batch[2].numpy()\n",
    "\n",
    "            for j in range(n_event_type):\n",
    "                ind = np.logical_not(np.logical_and(a == 1, b == j))\n",
    "                weights_cp = np.copy(weights)\n",
    "                weights_cp[ind] = np.nan\n",
    "                avg_weight_list.append(np.nanmean(weights_cp)) \n",
    "\n",
    "            avg_weight = np.array(avg_weight_list)\n",
    "            mat_dist_ddp.append(\n",
    "                np.sum(np.abs(torch.exp(ddp_model.alpha_mat).numpy() * avg_weight - true_alpha)))\n",
    "            mat_dist_hawkes.append(np.sum(np.abs(torch.exp(c_hawkes_model.alpha_mat).numpy() - true_alpha)))\n",
    "\n",
    "    mini_batch = data_loader.get_mini_batch(batch_size, batch_input_np)\n",
    "    \n",
    "    ddp_model.set_input(*mini_batch)\n",
    "    log_lik = ddp_model() * (-1.0)\n",
    "    models.cross_ent_one_step(log_lik, opt_ddp)\n",
    "\n",
    "    c_hawkes_model.set_input(*mini_batch)\n",
    "    log_lik2 = c_hawkes_model() * (-1.0)\n",
    "    models.cross_ent_one_step(log_lik2, opt_c_hawkes)\n",
    "    "
   ]
  },
  {
   "cell_type": "markdown",
   "metadata": {},
   "source": [
    "Visualizing the training performance as follows:"
   ]
  },
  {
   "cell_type": "code",
   "execution_count": 9,
   "metadata": {},
   "outputs": [
    {
     "data": {
      "text/plain": [
       "<matplotlib.legend.Legend at 0x7fc61c6b8c90>"
      ]
     },
     "execution_count": 9,
     "metadata": {},
     "output_type": "execute_result"
    },
    {
     "data": {
      "image/png": "[encoded data removed]",
      "text/plain": [
       "<Figure size 432x288 with 1 Axes>"
      ]
     },
     "metadata": {
      "needs_background": "light"
     },
     "output_type": "display_data"
    }
   ],
   "source": [
    "fig = plt.figure()\n",
    "ax = fig.add_subplot(1, 1, 1)\n",
    "line = ax.plot(np.array(mat_dist_ddp), label='DDP')\n",
    "ax.axhline(y=min(mat_dist_hawkes), color='r', linestyle='--', label='Hawkes (Ground Truth)')\n",
    "plt.xlabel('Training Iteration')\n",
    "plt.ylabel('L1 Distance')\n",
    "plt.legend()"
   ]
  },
  {
   "cell_type": "code",
   "execution_count": null,
   "metadata": {},
   "outputs": [],
   "source": []
  }
 ],
 "metadata": {
  "kernelspec": {
   "display_name": "Python 3",
   "language": "python",
   "name": "python3"
  },
  "language_info": {
   "codemirror_mode": {
    "name": "ipython",
    "version": 3
   },
   "file_extension": ".py",
   "mimetype": "text/x-python",
   "name": "python",
   "nbconvert_exporter": "python",
   "pygments_lexer": "ipython3",
   "version": "3.7.4"
  },
  "pycharm": {
   "stem_cell": {
    "cell_type": "raw",
    "metadata": {
     "collapsed": false
    },
    "source": []
   }
  }
 },
 "nbformat": 4,
 "nbformat_minor": 1
}
