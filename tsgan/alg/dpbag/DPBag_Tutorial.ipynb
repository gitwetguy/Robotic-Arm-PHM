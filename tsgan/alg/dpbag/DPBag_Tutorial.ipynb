{
 "cells": [
  {
   "cell_type": "markdown",
   "metadata": {},
   "source": [
    "# Tutorial DPBag\n",
    "\n",
    "## Differentially Private Bagging: Improved utility and cheaper privacy than subsample-and-aggregate"
   ]
  },
  {
   "cell_type": "markdown",
   "metadata": {},
   "source": [
    "This tutorial shows how to use DPBag to achieve differentially private classification model. We are using the well known UCI adult dataset as an example."
   ]
  },
  {
   "cell_type": "markdown",
   "metadata": {},
   "source": [
    "Experiment Settings (Import necessary packages and functions)"
   ]
  },
  {
   "cell_type": "code",
   "execution_count": null,
   "metadata": {},
   "outputs": [],
   "source": [
    "#%% Necessary Packages\n",
    "import numpy as np\n",
    "from tqdm import tqdm\n",
    "import pandas as pd\n",
    "\n",
    "#%% Functions\n",
    "from DPBag_Final import DPBag\n",
    "\n",
    "# 1. Models\n",
    "from data_loading import Data_Loading_Adult\n",
    "\n",
    "print('Finish importing necessary packages and functions')"
   ]
  },
  {
   "cell_type": "markdown",
   "metadata": {},
   "source": [
    "Set parameters"
   ]
  },
  {
   "cell_type": "code",
   "execution_count": null,
   "metadata": {},
   "outputs": [],
   "source": [
    "#%% Parameters\n",
    "\n",
    "# Select dataset\n",
    "data_name = 'adult'\n",
    "\n",
    "# Number of iterations\n",
    "Iterations = 2\n",
    "\n",
    "# Algorithm parameters\n",
    "parameters = dict()\n",
    "\n",
    "parameters['epsilon'] = 5\n",
    "parameters['delta'] = 1e-3\n",
    "parameters['teacher_no'] = 50\n",
    "parameters['lamda'] = float(2)/parameters['teacher_no']\n",
    "parameters['part_no'] = 10\n",
    "\n",
    "print(data_name + ' dataset is selected')\n",
    "print('parameters are ' + str(parameters))"
   ]
  },
  {
   "cell_type": "markdown",
   "metadata": {},
   "source": [
    "Output Initialization"
   ]
  },
  {
   "cell_type": "code",
   "execution_count": null,
   "metadata": {},
   "outputs": [],
   "source": [
    "# Output initialization\n",
    "Output_AUC = list()\n",
    "Output_APR = list()\n",
    "Output_ACC = list()\n",
    "Output_Budget = list()\n",
    "Output_Model = list()\n",
    "\n",
    "print('Finish Output Initialization')"
   ]
  },
  {
   "cell_type": "markdown",
   "metadata": {},
   "source": [
    "Run DPBag algorithm"
   ]
  },
  {
   "cell_type": "code",
   "execution_count": null,
   "metadata": {},
   "outputs": [],
   "source": [
    "\n",
    "for itr in tqdm(range(Iterations)):\n",
    "    \n",
    "    # Load Data\n",
    "    x_train, y_train, x_valid, y_valid, x_test, y_test = Data_Loading_Adult()\n",
    "    \n",
    "    print(data_name + ' Data Loaded')\n",
    "    \n",
    "    # DPBag Algorithm\n",
    "    Temp_ACC, Temp_AUC, Temp_APR, Temp_Budget, Temp_Model = DPBag(x_train, y_train, x_valid, x_test, y_test, parameters)\n",
    "    \n",
    "    print('Finish DPBag Algorithm')\n",
    "        \n",
    "    # Gather performance metrics\n",
    "    Output_ACC.append(Temp_ACC)\n",
    "    Output_AUC.append(Temp_AUC)\n",
    "    Output_APR.append(Temp_APR)\n",
    "    Output_Budget.append(Temp_Budget)\n",
    "    Output_Model.append(Temp_Model)\n",
    "        "
   ]
  },
  {
   "cell_type": "markdown",
   "metadata": {},
   "source": [
    "Performance Table"
   ]
  },
  {
   "cell_type": "code",
   "execution_count": null,
   "metadata": {},
   "outputs": [],
   "source": [
    "dict_metrics = {'Epsilon':[i+1 for i in range(len(Output_ACC[0]))],\n",
    "                'Accuracy': np.mean(Output_ACC,0),\n",
    "                'AUROC': np.mean(Output_AUC,0),\n",
    "                'AUPRC': np.mean(Output_APR,0),\n",
    "                'Budget': np.mean(Output_Budget,0)}\n",
    "\n",
    "Output_Metric = pd.DataFrame(dict_metrics)\n",
    "\n",
    "# Print Final Metric\n",
    "print(Output_Metric)"
   ]
  },
  {
   "cell_type": "markdown",
   "metadata": {},
   "source": [
    "Differentially Private Classification Models"
   ]
  },
  {
   "cell_type": "code",
   "execution_count": null,
   "metadata": {},
   "outputs": [],
   "source": [
    "epsilon = 1\n",
    "print(Output_Model[0][epsilon])"
   ]
  }
 ],
 "metadata": {
  "kernelspec": {
   "display_name": "Python 3",
   "language": "python",
   "name": "python3"
  },
  "language_info": {
   "codemirror_mode": {
    "name": "ipython",
    "version": 3
   },
   "file_extension": ".py",
   "mimetype": "text/x-python",
   "name": "python",
   "nbconvert_exporter": "python",
   "pygments_lexer": "ipython3",
   "version": "3.6.7"
  }
 },
 "nbformat": 4,
 "nbformat_minor": 2
}

