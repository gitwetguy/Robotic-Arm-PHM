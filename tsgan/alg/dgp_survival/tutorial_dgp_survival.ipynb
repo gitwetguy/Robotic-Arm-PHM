{
 "cells": [
  {
   "cell_type": "markdown",
   "metadata": {},
   "source": [
    "# Example Deep Gaussian Processes for Survival Analysis\n",
    "\n",
    "\n",
    "Deep Multi-task Gaussian Processes for Survival Analysis with Competing Risks [paper](https://papers.nips.cc/paper/6827-deep-multi-task-gaussian-processes-for-survival-analysis-with-competing-risks.pdf)\n",
    "\n",
    "This tutorial shows how to use DPG for survival analysis. We are using [The Veterans' Administration Lung Cancer Trial](http://lib.stat.cmu.edu/datasets/veteran) as an example. It is based upon an example from [scikit-survival](https://github.com/sebp/scikit-survival/blob/master/examples/00-introduction.ipynb). \n",
    "\n",
    "We need to transform this dataset into a csv file that can be processed by the model: Events needs to be converted to numbers: event 1=1, event 2=2, etc, and event time is in days."
   ]
  },
  {
   "cell_type": "code",
   "execution_count": null,
   "metadata": {},
   "outputs": [],
   "source": [
    "from sksurv.datasets import load_veterans_lung_cancer\n",
    "from sksurv.preprocessing import OneHotEncoder\n",
    "import numpy as np\n",
    "\n",
    "data_x, data_y = load_veterans_lung_cancer()\n",
    "\n",
    "# convert categorical variables into numeric values.\n",
    "data_x_numeric = OneHotEncoder().fit_transform(data_x)\n",
    "\n",
    "df = data_x_numeric\n",
    "# events needs to be converted to numbers: event 1=1, event 2=2, etc, and event time is in days.\n",
    "df['Status'] = np.where(data_y['Status'], 1, 0)\n",
    "df['Survival_in_days'] = data_y['Survival_in_days']\n",
    "df.to_csv('veterans_lung_cancer.csv', index=False)\n",
    "df.head()"
   ]
  },
  {
   "cell_type": "markdown",
   "metadata": {},
   "source": [
    "Run DGP and calculate the c-index:"
   ]
  },
  {
   "cell_type": "code",
   "execution_count": null,
   "metadata": {},
   "outputs": [],
   "source": [
    "event_horizon_days = 365*5  # 5 years\n",
    "!python3 dgp.py -i 'veterans_lung_cancer.csv' --target 'Status' --time 'Survival_in_days' --horizon  {event_horizon_days}"
   ]
  }
 ],
 "metadata": {
  "kernelspec": {
   "display_name": "Python 3",
   "language": "python",
   "name": "python3"
  },
  "language_info": {
   "codemirror_mode": {
    "name": "ipython",
    "version": 3
   },
   "file_extension": ".py",
   "mimetype": "text/x-python",
   "name": "python",
   "nbconvert_exporter": "python",
   "pygments_lexer": "ipython3",
   "version": "3.6.5"
  }
 },
 "nbformat": 4,
 "nbformat_minor": 2
}
