{
 "cells": [
  {
   "cell_type": "markdown",
   "metadata": {},
   "source": [
    "This tutorial shows how to use [Knockoff Gan](https://openreview.net/forum?id=ByeZ5jC5YQ): \"*generating knockoffs for feature selection using generative adversarial networks*\". This implemenation uses both R and python3 including tensorflow. Please make sure that all the depencies are installed by following the installation procedure.\n",
    "\n",
    "We generate a data file with synthetic data so we know the relation between the explanatory variables and response variable - see also [knockoffs](https://web.stanford.edu/group/candes/knockoffs/software/knockoffs): "
   ]
  },
  {
   "cell_type": "code",
   "execution_count": null,
   "metadata": {},
   "outputs": [],
   "source": [
    "fn_data_csv = \"data.csv\"\n",
    "target = \"label\"\n",
    "fn_json = \"generated_data_properties.json\"\n",
    "!Rscript gen_data.r  -o {fn_data_csv} --target {target} --ojson {fn_json}"
   ]
  },
  {
   "cell_type": "markdown",
   "metadata": {},
   "source": [
    "Show first five rows of generated data:"
   ]
  },
  {
   "cell_type": "code",
   "execution_count": null,
   "metadata": {},
   "outputs": [],
   "source": [
    "import pandas as pd\n",
    "df = pd.read_csv(fn_data_csv)\n",
    "df.head()"
   ]
  },
  {
   "cell_type": "markdown",
   "metadata": {},
   "source": [
    "Show the relevant variables retrieved from the properties file:"
   ]
  },
  {
   "cell_type": "code",
   "execution_count": null,
   "metadata": {},
   "outputs": [],
   "source": [
    "import json\n",
    "with open(fn_json, \"r\") as fp:\n",
    "    features_gen_data = json.load(fp)\n",
    "print('relevant variables:{}'.format(features_gen_data['features_selected']))"
   ]
  },
  {
   "cell_type": "code",
   "execution_count": null,
   "metadata": {},
   "outputs": [],
   "source": [
    "niter = 2000 # number iterations GAN\n",
    "rep = 20 # numbers of repeated runs from which the selected features will be collected\n",
    "false_discovery_rate = 0.1\n",
    "stat = \"glm\" # Importance statistics based on glmnet_coefdiff (glm)\n",
    "fn_json_ko = \"result_knockoff_gan.json\"\n",
    "python_exe = \"python3\" # on some systems this is python\n",
    "\n",
    "!Rscript knockoffgan.r -i {fn_data_csv} --target {target} --it {niter}  --fdr {false_discovery_rate} --replication {rep}  -o {fn_json_ko} --stat {stat} --exe {python_exe}"
   ]
  },
  {
   "cell_type": "markdown",
   "metadata": {},
   "source": [
    "Compared knockoff gan results with generated data properties:"
   ]
  },
  {
   "cell_type": "code",
   "execution_count": null,
   "metadata": {},
   "outputs": [],
   "source": [
    "import json\n",
    "\n",
    "fn_json_ko = \"result_knockoff_gan.json\"\n",
    "\n",
    "with open(fn_json_ko,'r') as fp:\n",
    "    result = json.load(fp)\n",
    "\n",
    "agree_set = set(result['features_selected']).intersection(set(features_gen_data['features_selected']))\n",
    "disagree_set = set(result['features_selected']) - set(features_gen_data['features_selected'])\n",
    "    \n",
    "print('relevant explanatory variables:{}\\n'.format(result['features_selected']))\n",
    "print('agreement generated and detectect explanatory variables:{}) {}'.format(len(agree_set), agree_set))\n",
    "print('disagreement: {}'.format(disagree_set if len(disagree_set) else '-'))\n"
   ]
  },
  {
   "cell_type": "markdown",
   "metadata": {},
   "source": [
    "Validate results:"
   ]
  },
  {
   "cell_type": "code",
   "execution_count": null,
   "metadata": {},
   "outputs": [],
   "source": [
    "assert len(disagree_set)  <= (false_discovery_rate * len(features_gen_data['features_selected']) + 1)\n",
    "assert len(agree_set)  == len(features_gen_data['features_selected'])            \n",
    "print('pass')"
   ]
  }
 ],
 "metadata": {
  "kernelspec": {
   "display_name": "Python 3",
   "language": "python",
   "name": "python3"
  },
  "language_info": {
   "codemirror_mode": {
    "name": "ipython",
    "version": 3
   },
   "file_extension": ".py",
   "mimetype": "text/x-python",
   "name": "python",
   "nbconvert_exporter": "python",
   "pygments_lexer": "ipython3",
   "version": "3.6.5"
  }
 },
 "nbformat": 4,
 "nbformat_minor": 2
}
