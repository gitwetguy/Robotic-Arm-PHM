{
 "cells": [
  {
   "cell_type": "markdown",
   "metadata": {},
   "source": [
    "# Tutorial INVASE\n",
    "\n",
    "    \n",
    " ## instancewise variable selection using deep neural networks"
   ]
  },
  {
   "cell_type": "markdown",
   "metadata": {},
   "source": [
    "This tutorial shows how to use INVASE to do instancewise variable selection. Follow link [INVASE](https://openreview.net/forum?id=BJg_roAcK7) for more details. We are using the well known UCI dataset \"breast-cancer-wisconsin.csv\" as an example."
   ]
  },
  {
   "cell_type": "markdown",
   "metadata": {},
   "source": [
    "Load dataset and show the first five samples:"
   ]
  },
  {
   "cell_type": "code",
   "execution_count": null,
   "metadata": {},
   "outputs": [],
   "source": [
    "from sklearn.datasets import load_breast_cancer\n",
    "import pandas as pd\n",
    "data = load_breast_cancer()  # get Breast Cancer Dataset\n",
    "\n",
    "df = pd.DataFrame(data.data, columns=data.feature_names) # create pandas dataframe\n",
    "target = 'target'\n",
    "df[target] = data.target\n",
    "fn_csv = 'data.csv'\n",
    "df.to_csv(fn_csv, index=False)\n",
    "df.head()"
   ]
  },
  {
   "cell_type": "markdown",
   "metadata": {},
   "source": [
    "Run invase"
   ]
  },
  {
   "cell_type": "code",
   "execution_count": null,
   "metadata": {},
   "outputs": [],
   "source": [
    "fn_feature_score = \"feature_score.csv.gz\"\n",
    "\n",
    "num_epoch = 2000\n",
    "!python3 invase.py -i {fn_csv} --target {target} --it {num_epoch} -o {fn_feature_score}"
   ]
  },
  {
   "cell_type": "markdown",
   "metadata": {},
   "source": [
    "Analyse results and generate plots"
   ]
  },
  {
   "cell_type": "code",
   "execution_count": null,
   "metadata": {},
   "outputs": [],
   "source": [
    "fn_json = 'result.json'\n",
    "!python3 invase_ana.py -i {fn_csv} -o {fn_json}\n",
    "!python3 invase_plot.py  -i {fn_csv} -oglobal global.png -osample sample.png -isstd 1\n",
    "import matplotlib.pyplot as plt; plt.rcParams['figure.figsize'] = [12, 12];import matplotlib.image as mpimg;img=mpimg.imread('global.png'); plt.imshow(img);plt.show()"
   ]
  },
  {
   "cell_type": "markdown",
   "metadata": {},
   "source": [
    "Show plot features importance per sample"
   ]
  },
  {
   "cell_type": "code",
   "execution_count": null,
   "metadata": {},
   "outputs": [],
   "source": [
    "import matplotlib.pyplot as plt; plt.rcParams['figure.figsize'] = [13, 60];import matplotlib.image as mpimg;img=mpimg.imread('sample.png'); plt.imshow(img);plt.show()"
   ]
  },
  {
   "cell_type": "code",
   "execution_count": null,
   "metadata": {},
   "outputs": [],
   "source": []
  }
 ],
 "metadata": {
  "kernelspec": {
   "display_name": "Python 3",
   "language": "python",
   "name": "python3"
  },
  "language_info": {
   "codemirror_mode": {
    "name": "ipython",
    "version": 3
   },
   "file_extension": ".py",
   "mimetype": "text/x-python",
   "name": "python",
   "nbconvert_exporter": "python",
   "pygments_lexer": "ipython3",
   "version": "3.7.2"
  }
 },
 "nbformat": 4,
 "nbformat_minor": 2
}
