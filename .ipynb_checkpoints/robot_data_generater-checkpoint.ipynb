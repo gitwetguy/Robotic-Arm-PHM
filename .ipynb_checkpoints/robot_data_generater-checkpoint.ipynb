{
  "nbformat": 4,
  "nbformat_minor": 0,
  "metadata": {
    "kernelspec": {
      "name": "python3",
      "display_name": "Python 3"
    },
    "language_info": {
      "codemirror_mode": {
        "name": "ipython",
        "version": 3
      },
      "file_extension": ".py",
      "mimetype": "text/x-python",
      "name": "python",
      "nbconvert_exporter": "python",
      "pygments_lexer": "ipython3",
      "version": "3.6.7"
    },
    "colab": {
      "name": "robot_data generater.ipynb",
      "provenance": [],
      "collapsed_sections": [],
      "machine_shape": "hm"
    },
    "accelerator": "GPU"
  },
  "cells": [
    {
      "cell_type": "markdown",
      "metadata": {
        "id": "wjej7RQjyvoQ"
      },
      "source": [
        "# Tutorial TGAN\n",
        "\n",
        "## Time-series Generative Adversarial Networks"
      ]
    },
    {
      "cell_type": "markdown",
      "metadata": {
        "id": "crWq-jPBgsiq"
      },
      "source": [
        "```\n",
        "Title: Time-series Generative Adversarial Networks\n",
        "Paper Authors: Jinsung Yoon, Daniel Jarrett, Mihaela van der Schaar\n",
        "Colab Creator: Derek Snow\n",
        "```"
      ]
    },
    {
      "cell_type": "markdown",
      "metadata": {
        "id": "S6azwAljhf9F"
      },
      "source": [
        "Mount Google Drive"
      ]
    },
    {
      "cell_type": "code",
      "metadata": {
        "id": "yXmo_brBvTzu"
      },
      "source": [
        "## You are advised to save your progress (i.e models), one way of doing it is by \n",
        "## ..mounting a drive. This is optional. \n",
        "\n",
        "# from google.colab import drive\n",
        "# drive.mount('/content/drive',force_remount=True)\n",
        "# %cd \"/content/drive/My Drive/FirmAI/TSGAN/timegan\""
      ],
      "execution_count": null,
      "outputs": []
    },
    {
      "cell_type": "markdown",
      "metadata": {
        "id": "pDiNzI9Mh82t"
      },
      "source": [
        "Clone Forked Package"
      ]
    },
    {
      "cell_type": "code",
      "metadata": {
        "id": "Yr1eJzIO78Af"
      },
      "source": [
        "%%capture\n",
        "%tensorflow_version 1.x\n",
        "!git clone https://github.com/firmai/tsgan.git\n",
        "%cd tsgan/alg/timegan"
      ],
      "execution_count": 1,
      "outputs": []
    },
    {
      "cell_type": "markdown",
      "metadata": {
        "id": "II_vNZhoyvoV"
      },
      "source": [
        "This tutorial shows how to use TGAN to generate synthetic time-series data. We are using Google Stock and Sine dataset as examples. After you have generated your multi-variate time series data, you need to test how close the generated data is to your original data. I have experimented with a range of transformations, distance metrics and tests in the following [Colab](https://colab.research.google.com/drive/1QSDTKvNiwc1IRCX_VYr9TRFusdX1gLMM?usp=sharing). In this notebook, starting after this code-block you can generate your own data, save it, and use the above notebook to test your data's similarity (aggregates, distribution, fit, correlation, auto-correlation)."
      ]
    },
    {
      "cell_type": "markdown",
      "metadata": {
        "id": "PAxehuKsyvoZ"
      },
      "source": [
        "Experiment Settings (Import necessary packages and functions)"
      ]
    },
    {
      "cell_type": "code",
      "metadata": {
        "id": "2KpEFpW-yvob",
        "outputId": "a76e7f78-5cd4-43d3-e51d-6c9b9d486927",
        "colab": {
          "base_uri": "https://localhost:8080/"
        }
      },
      "source": [
        "import numpy as np\n",
        "import sys\n",
        "\n",
        "#%% Functions\n",
        "# 1. Models\n",
        "from tgan import tgan\n",
        "\n",
        "# 2. Data Loading\n",
        "from data_loading import google_data_loading, sine_data_generation\n",
        "\n",
        "# 3. Metrics\n",
        "sys.path.append('metrics')\n",
        "from discriminative_score_metrics import discriminative_score_metrics\n",
        "from visualization_metrics import PCA_Analysis, tSNE_Analysis\n",
        "from predictive_score_metrics import predictive_score_metrics\n",
        "\n",
        "print('Finish importing necessary packages and functions')\n"
      ],
      "execution_count": 2,
      "outputs": [
        {
          "output_type": "stream",
          "name": "stdout",
          "text": [
            "Finish importing necessary packages and functions\n"
          ]
        }
      ]
    },
    {
      "cell_type": "markdown",
      "metadata": {
        "id": "KOzZtuT80GPH"
      },
      "source": [
        "Code"
      ]
    },
    {
      "cell_type": "markdown",
      "metadata": {
        "id": "hNOzA3VsEjJc"
      },
      "source": [
        "For TensorFlow 2.0 you have to use ```tf.keras.layer.Dense``` to create a fully connected layer, but more importantly, you have to migrate your codebase to Keras. In fact, you can't define a layer and use it without creating a ```tf.keras.Model``` object that uses it. Currently the code remains in TF1."
      ]
    },
    {
      "cell_type": "code",
      "metadata": {
        "id": "8Vl5fuZL0Fme"
      },
      "source": [
        "'''\n",
        "2019 NeurIPS Submission\n",
        "Title: Time-series Generative Adversarial Networks\n",
        "Authors: Jinsung Yoon, Daniel Jarrett, Mihaela van der Schaar\n",
        "\n",
        "Last Updated Date: May 29th 2019\n",
        "Code Author: Jinsung Yoon (jsyoon0823@gmail.com)\n",
        "\n",
        "Adapted for Colab by Derek Snow\n",
        "-----------------------------\n",
        "\n",
        "TGAN Function\n",
        "- Use original data as training set to generater synthetic data (time-series)\n",
        "\n",
        "Inputs\n",
        "- Dataset\n",
        "- Network Parameters\n",
        "\n",
        "Outputs\n",
        "- time-series synthetic data\n",
        "'''\n",
        "\n",
        "#%% Necessary Packages\n",
        "import tensorflow as tf\n",
        "import numpy as np\n",
        "\n",
        "#%% Min Max Normalizer\n",
        "\n",
        "def MinMaxScaler(dataX):\n",
        "    \n",
        "    min_val = np.min(np.min(dataX, axis = 0), axis = 0)\n",
        "    dataX = dataX - min_val\n",
        "    \n",
        "    max_val = np.max(np.max(dataX, axis = 0), axis = 0)\n",
        "    dataX = dataX / (max_val + 1e-7)\n",
        "    \n",
        "    return dataX, min_val, max_val\n",
        "\n",
        "#%% Start TGAN function (Input: Original data, Output: Synthetic Data)\n",
        "\n",
        "def tgan (dataX, parameters):\n",
        "  \n",
        "    # Initialization on the Graph\n",
        "    tf.reset_default_graph()\n",
        "\n",
        "    # Basic Parameters\n",
        "    No = len(dataX)\n",
        "    data_dim = len(dataX[0][0,:])\n",
        "    \n",
        "    # Maximum seq length and each seq length\n",
        "    dataT = list()\n",
        "    Max_Seq_Len = 0\n",
        "    for i in range(No):\n",
        "        Max_Seq_Len = max(Max_Seq_Len, len(dataX[i][:,0]))\n",
        "        dataT.append(len(dataX[i][:,0]))\n",
        "        \n",
        "    # Normalization\n",
        "    if ((np.max(dataX) > 1) | (np.min(dataX) < 0)):\n",
        "        dataX, min_val, max_val = MinMaxScaler(dataX)\n",
        "        Normalization_Flag = 1\n",
        "    else:\n",
        "        Normalization_Flag = 0\n",
        "     \n",
        "    # Network Parameters\n",
        "    hidden_dim   = parameters['hidden_dim'] \n",
        "    num_layers   = parameters['num_layers']\n",
        "    iterations   = parameters['iterations']\n",
        "    batch_size   = parameters['batch_size']\n",
        "    module_name  = parameters['module_name']    # 'lstm' or 'lstmLN'\n",
        "    z_dim        = parameters['z_dim']\n",
        "    gamma        = 1\n",
        "    \n",
        "    #%% input place holders\n",
        "    \n",
        "    X = tf.placeholder(tf.float32, [None, Max_Seq_Len, data_dim], name = \"myinput_x\")\n",
        "    Z = tf.placeholder(tf.float32, [None, Max_Seq_Len, z_dim], name = \"myinput_z\")\n",
        "    T = tf.placeholder(tf.int32, [None], name = \"myinput_t\")\n",
        "    \n",
        "    #%% Basic RNN Cell\n",
        "          \n",
        "    def rnn_cell(module_name):\n",
        "      # GRU\n",
        "        if (module_name == 'gru'):\n",
        "            rnn_cell = tf.nn.rnn_cell.GRUCell(num_units=hidden_dim, activation=tf.nn.tanh)\n",
        "      # LSTM\n",
        "        elif (module_name == 'lstm'):\n",
        "            rnn_cell = tf.contrib.rnn.BasicLSTMCell(num_units=hidden_dim, activation=tf.nn.tanh)\n",
        "      # LSTM Layer Normalization\n",
        "        elif (module_name == 'lstmLN'):\n",
        "            rnn_cell = tf.contrib.rnn.LayerNormBasicLSTMCell(num_units=hidden_dim, activation=tf.nn.tanh)\n",
        "        return rnn_cell\n",
        "      \n",
        "        \n",
        "    #%% build a RNN embedding network      \n",
        "    \n",
        "    def embedder (X, T):      \n",
        "      \n",
        "        with tf.variable_scope(\"embedder\", reuse = tf.AUTO_REUSE):\n",
        "            \n",
        "            e_cell = tf.nn.rnn_cell.MultiRNNCell([rnn_cell(module_name) for _ in range(num_layers)])\n",
        "                \n",
        "            e_outputs, e_last_states = tf.nn.dynamic_rnn(e_cell, X, dtype=tf.float32, sequence_length = T)\n",
        "            \n",
        "            H = tf.contrib.layers.fully_connected(e_outputs, hidden_dim, activation_fn=tf.nn.sigmoid)     \n",
        "\n",
        "        return H\n",
        "      \n",
        "    ##### Recovery\n",
        "    \n",
        "    def recovery (H, T):      \n",
        "      \n",
        "        with tf.variable_scope(\"recovery\", reuse = tf.AUTO_REUSE):       \n",
        "              \n",
        "            r_cell = tf.nn.rnn_cell.MultiRNNCell([rnn_cell(module_name) for _ in range(num_layers)])\n",
        "                \n",
        "            r_outputs, r_last_states = tf.nn.dynamic_rnn(r_cell, H, dtype=tf.float32, sequence_length = T)\n",
        "            \n",
        "            X_tilde = tf.contrib.layers.fully_connected(r_outputs, data_dim, activation_fn=tf.nn.sigmoid) \n",
        "\n",
        "        return X_tilde\n",
        "    \n",
        "    \n",
        "    \n",
        "    #%% build a RNN generator network\n",
        "    \n",
        "    def generator (Z, T):      \n",
        "      \n",
        "        with tf.variable_scope(\"generator\", reuse = tf.AUTO_REUSE):\n",
        "            \n",
        "            e_cell = tf.nn.rnn_cell.MultiRNNCell([rnn_cell(module_name) for _ in range(num_layers)])\n",
        "                \n",
        "            e_outputs, e_last_states = tf.nn.dynamic_rnn(e_cell, Z, dtype=tf.float32, sequence_length = T)\n",
        "            \n",
        "            E = tf.contrib.layers.fully_connected(e_outputs, hidden_dim, activation_fn=tf.nn.sigmoid)     \n",
        "\n",
        "        return E\n",
        "      \n",
        "    def supervisor (H, T):      \n",
        "      \n",
        "        with tf.variable_scope(\"supervisor\", reuse = tf.AUTO_REUSE):\n",
        "            \n",
        "            e_cell = tf.nn.rnn_cell.MultiRNNCell([rnn_cell(module_name) for _ in range(num_layers-1)])\n",
        "                \n",
        "            e_outputs, e_last_states = tf.nn.dynamic_rnn(e_cell, H, dtype=tf.float32, sequence_length = T)\n",
        "            \n",
        "            S = tf.contrib.layers.fully_connected(e_outputs, hidden_dim, activation_fn=tf.nn.sigmoid)     \n",
        "\n",
        "        return S\n",
        "      \n",
        "      \n",
        "      \n",
        "    #%% builde a RNN discriminator network \n",
        "    \n",
        "    def discriminator (H, T):\n",
        "      \n",
        "        with tf.variable_scope(\"discriminator\", reuse = tf.AUTO_REUSE):\n",
        "            \n",
        "            d_cell = tf.nn.rnn_cell.MultiRNNCell([rnn_cell(module_name) for _ in range(num_layers)])\n",
        "                \n",
        "            d_outputs, d_last_states = tf.nn.dynamic_rnn(d_cell, H, dtype=tf.float32, sequence_length = T)\n",
        "            \n",
        "            Y_hat = tf.contrib.layers.fully_connected(d_outputs, 1, activation_fn=None) \n",
        "    \n",
        "        return Y_hat   \n",
        "    \n",
        "    \n",
        "    #%% Random vector generation\n",
        "    def random_generator (batch_size, z_dim, T_mb, Max_Seq_Len):\n",
        "      \n",
        "        Z_mb = list()\n",
        "        \n",
        "        for i in range(batch_size):\n",
        "            \n",
        "            Temp = np.zeros([Max_Seq_Len, z_dim])\n",
        "            \n",
        "            Temp_Z = np.random.uniform(0., 1, [T_mb[i], z_dim])\n",
        "        \n",
        "            Temp[:T_mb[i],:] = Temp_Z\n",
        "            \n",
        "            Z_mb.append(Temp_Z)\n",
        "      \n",
        "        return Z_mb\n",
        "    \n",
        "    #%% Functions\n",
        "    \n",
        "    # Embedder Networks\n",
        "    H = embedder(X, T)\n",
        "    X_tilde = recovery(H, T)\n",
        "    \n",
        "    # Generator\n",
        "    E_hat = generator(Z, T)\n",
        "    H_hat = supervisor(E_hat, T)\n",
        "    H_hat_supervise = supervisor(H, T)\n",
        "    \n",
        "    # Synthetic data\n",
        "    X_hat = recovery(H_hat, T)\n",
        "    \n",
        "    # Discriminator\n",
        "    Y_fake = discriminator(H_hat, T)\n",
        "    Y_real = discriminator(H, T)     \n",
        "    Y_fake_e = discriminator(E_hat, T)\n",
        "    \n",
        "    # Variables        \n",
        "    e_vars = [v for v in tf.trainable_variables() if v.name.startswith('embedder')]\n",
        "    r_vars = [v for v in tf.trainable_variables() if v.name.startswith('recovery')]\n",
        "    g_vars = [v for v in tf.trainable_variables() if v.name.startswith('generator')]\n",
        "    s_vars = [v for v in tf.trainable_variables() if v.name.startswith('supervisor')]\n",
        "    d_vars = [v for v in tf.trainable_variables() if v.name.startswith('discriminator')]\n",
        "    \n",
        "    # Loss for the discriminator\n",
        "    D_loss_real = tf.losses.sigmoid_cross_entropy(tf.ones_like(Y_real), Y_real)\n",
        "    D_loss_fake = tf.losses.sigmoid_cross_entropy(tf.zeros_like(Y_fake), Y_fake)\n",
        "    D_loss_fake_e = tf.losses.sigmoid_cross_entropy(tf.zeros_like(Y_fake_e), Y_fake_e)\n",
        "    D_loss = D_loss_real + D_loss_fake + gamma * D_loss_fake_e\n",
        "            \n",
        "    # Loss for the generator\n",
        "    # 1. Adversarial loss\n",
        "    G_loss_U = tf.losses.sigmoid_cross_entropy(tf.ones_like(Y_fake), Y_fake)\n",
        "    G_loss_U_e = tf.losses.sigmoid_cross_entropy(tf.ones_like(Y_fake_e), Y_fake_e)\n",
        "    \n",
        "    # 2. Supervised loss\n",
        "    G_loss_S = tf.losses.mean_squared_error(H[:,1:,:], H_hat_supervise[:,1:,:])\n",
        "    \n",
        "    # 3. Two Momments\n",
        "    G_loss_V1 = tf.reduce_mean(tf.math.abs(tf.sqrt(tf.nn.moments(X_hat,[0])[1] + 1e-6) - tf.sqrt(tf.nn.moments(X,[0])[1] + 1e-6)))\n",
        "    G_loss_V2 = tf.reduce_mean(tf.math.abs((tf.nn.moments(X_hat,[0])[0]) - (tf.nn.moments(X,[0])[0])))\n",
        "    \n",
        "    G_loss_V = G_loss_V1 + G_loss_V2\n",
        "    \n",
        "    # Summation\n",
        "    G_loss = G_loss_U + gamma * G_loss_U_e + 100 * tf.sqrt(G_loss_S) + 100*G_loss_V \n",
        "            \n",
        "    # Loss for the embedder network\n",
        "    E_loss_T0 = tf.losses.mean_squared_error(X, X_tilde)\n",
        "    E_loss0 = 10*tf.sqrt(E_loss_T0)\n",
        "    E_loss = E_loss0  + 0.1*G_loss_S\n",
        "    \n",
        "    # optimizer\n",
        "    E0_solver = tf.train.AdamOptimizer().minimize(E_loss0, var_list = e_vars + r_vars)\n",
        "    E_solver = tf.train.AdamOptimizer().minimize(E_loss, var_list = e_vars + r_vars)\n",
        "    D_solver = tf.train.AdamOptimizer().minimize(D_loss, var_list = d_vars)\n",
        "    G_solver = tf.train.AdamOptimizer().minimize(G_loss, var_list = g_vars + s_vars)      \n",
        "    GS_solver = tf.train.AdamOptimizer().minimize(G_loss_S, var_list = g_vars + s_vars)   \n",
        "        \n",
        "    #%% Sessions    \n",
        "    \n",
        "    sess = tf.Session()\n",
        "    sess.run(tf.global_variables_initializer())\n",
        "    \n",
        "    #%% Embedding Learning\n",
        "    \n",
        "    print('Start Embedding Network Training')\n",
        "    \n",
        "    for itt in range(iterations):\n",
        "        \n",
        "        # Batch setting\n",
        "        idx = np.random.permutation(No)\n",
        "        train_idx = idx[:batch_size]     \n",
        "            \n",
        "        X_mb = list(dataX[i] for i in train_idx)\n",
        "        T_mb = list(dataT[i] for i in train_idx)\n",
        "            \n",
        "        # Train embedder        \n",
        "        _, step_e_loss = sess.run([E0_solver, E_loss_T0], feed_dict={X: X_mb, T: T_mb})\n",
        "        \n",
        "        if itt % 1000 == 0:\n",
        "            print('step: '+ str(itt) + ', e_loss: ' + str(np.round(np.sqrt(step_e_loss),4)) )        \n",
        "            \n",
        "    print('Finish Embedding Network Training')\n",
        "    \n",
        "    #%% Training Supervised Loss First\n",
        "    \n",
        "    print('Start Training with Supervised Loss Only')\n",
        "    \n",
        "    for itt in range(iterations):\n",
        "        \n",
        "        # Batch setting\n",
        "        idx = np.random.permutation(No)\n",
        "        train_idx = idx[:batch_size]     \n",
        "            \n",
        "        X_mb = list(dataX[i] for i in train_idx)\n",
        "        T_mb = list(dataT[i] for i in train_idx)        \n",
        "        \n",
        "        Z_mb = random_generator(batch_size, z_dim, T_mb, Max_Seq_Len)\n",
        "        \n",
        "        # Train generator       \n",
        "        _, step_g_loss_s = sess.run([GS_solver, G_loss_S], feed_dict={Z: Z_mb, X: X_mb, T: T_mb})\n",
        "                           \n",
        "        if itt % 1000 == 0:\n",
        "            print('step: '+ str(itt) + ', s_loss: ' + str(np.round(np.sqrt(step_g_loss_s),4)) )\n",
        "                \n",
        "    print('Finish Training with Supervised Loss Only')\n",
        "    \n",
        "    #%% Joint Training\n",
        "    \n",
        "    print('Start Joint Training')\n",
        "    \n",
        "    # Training step\n",
        "    for itt in range(iterations):\n",
        "      \n",
        "        # Generator Training\n",
        "        for kk in range(2):\n",
        "          \n",
        "            # Batch setting\n",
        "            idx = np.random.permutation(No)\n",
        "            train_idx = idx[:batch_size]     \n",
        "            \n",
        "            X_mb = list(dataX[i] for i in train_idx)\n",
        "            T_mb = list(dataT[i] for i in train_idx)\n",
        "            \n",
        "            # Random vector generation\n",
        "            Z_mb = random_generator(batch_size, z_dim, T_mb, Max_Seq_Len)\n",
        "              \n",
        "            # Train generator\n",
        "            _, step_g_loss_u, step_g_loss_s, step_g_loss_v = sess.run([G_solver, G_loss_U, G_loss_S, G_loss_V], feed_dict={Z: Z_mb, X: X_mb, T: T_mb})\n",
        "            \n",
        "            # Train embedder        \n",
        "            _, step_e_loss_t0 = sess.run([E_solver, E_loss_T0], feed_dict={Z: Z_mb, X: X_mb, T: T_mb})   \n",
        "           \n",
        "        #%% Discriminator Training\n",
        "        \n",
        "        # Batch setting\n",
        "        idx = np.random.permutation(No)\n",
        "        train_idx = idx[:batch_size]     \n",
        "        \n",
        "        X_mb = list(dataX[i] for i in train_idx)\n",
        "        T_mb = list(dataT[i] for i in train_idx)\n",
        "        \n",
        "        # Random vector generation\n",
        "        Z_mb = random_generator(batch_size, z_dim, T_mb, Max_Seq_Len)\n",
        "            \n",
        "        \n",
        "        check_d_loss = sess.run(D_loss, feed_dict={X: X_mb, T: T_mb, Z: Z_mb})\n",
        "        \n",
        "        # Train discriminator\n",
        "        \n",
        "        if (check_d_loss > 0.15):        \n",
        "            _, step_d_loss = sess.run([D_solver, D_loss], feed_dict={X: X_mb, T: T_mb, Z: Z_mb})\n",
        "        \n",
        "        #%% Checkpoints\n",
        "        if itt % 1000 == 0:\n",
        "            print('step: '+ str(itt) + \n",
        "                  ', d_loss: ' + str(np.round(step_d_loss,4)) + \n",
        "                  ', g_loss_u: ' + str(np.round(step_g_loss_u,4)) + \n",
        "                  ', g_loss_s: ' + str(np.round(np.sqrt(step_g_loss_s),4)) + \n",
        "                  ', g_loss_v: ' + str(np.round(step_g_loss_v,4)) + \n",
        "                  ', e_loss_t0: ' + str(np.round(np.sqrt(step_e_loss_t0),4))  )\n",
        "   \n",
        "    \n",
        "    print('Finish Joint Training')\n",
        "    \n",
        "    #%% Final Outputs\n",
        "    \n",
        "    Z_mb = random_generator(No, z_dim, dataT, Max_Seq_Len)\n",
        "    \n",
        "    X_hat_curr = sess.run(X_hat, feed_dict={Z: Z_mb, X: dataX, T: dataT})    \n",
        "    \n",
        "    #%% List of the final outputs\n",
        "    \n",
        "    dataX_hat = list()\n",
        "    \n",
        "    for i in range(No):\n",
        "        Temp = X_hat_curr[i,:dataT[i],:]\n",
        "        dataX_hat.append(Temp)\n",
        "        \n",
        "    # Renormalization\n",
        "    if (Normalization_Flag == 1):\n",
        "        dataX_hat = dataX_hat * max_val\n",
        "        dataX_hat = dataX_hat + min_val\n",
        "    \n",
        "    return dataX_hat\n",
        "    "
      ],
      "execution_count": 3,
      "outputs": []
    },
    {
      "cell_type": "code",
      "source": [
        "from google.colab import drive\n",
        "drive.mount('/gdrive')"
      ],
      "metadata": {
        "colab": {
          "base_uri": "https://localhost:8080/"
        },
        "id": "pKvO5ong64EB",
        "outputId": "d378f36e-e6c1-44e0-fcfb-d59c037db240"
      },
      "execution_count": 5,
      "outputs": [
        {
          "output_type": "stream",
          "name": "stdout",
          "text": [
            "Mounted at /gdrive\n"
          ]
        }
      ]
    },
    {
      "cell_type": "markdown",
      "metadata": {
        "id": "lYOgeoPMyvov"
      },
      "source": [
        "Set main parameters and datasets"
      ]
    },
    {
      "cell_type": "code",
      "source": [
        "import pandas as pd\n",
        "\n",
        "\n",
        "df_list = []\n",
        "dataX = []\n",
        "for i in range(1,23):\n",
        "\n",
        "  print(\"Read {}th data\".format(i))\n",
        "  df_rawdata = pd.read_csv(\"/gdrive/MyDrive/Colab Notebooks/Robotic Dataset/Task2/RawData/task2_test_{}.csv\".format(i),\n",
        "                        skiprows=[i for i in range(10)],\n",
        "                        index_col='TimeStamp'\n",
        "                        )\n",
        "  #print(df_rawdata.columns)\n",
        "  Data_Col = df_rawdata.columns\n",
        "  df_list.append(df_rawdata.iloc[:6236,:])\n",
        "  dataX.append(df_rawdata.values[:6236,:])"
      ],
      "metadata": {
        "colab": {
          "base_uri": "https://localhost:8080/"
        },
        "id": "w2xUMCWB7ZNf",
        "outputId": "9bb968b7-1df7-455c-a6dc-1fbba8862d4f"
      },
      "execution_count": 12,
      "outputs": [
        {
          "output_type": "stream",
          "name": "stdout",
          "text": [
            "Read 1th data\n",
            "Read 2th data\n",
            "Read 3th data\n",
            "Read 4th data\n",
            "Read 5th data\n",
            "Read 6th data\n",
            "Read 7th data\n",
            "Read 8th data\n",
            "Read 9th data\n",
            "Read 10th data\n",
            "Read 11th data\n",
            "Read 12th data\n",
            "Read 13th data\n",
            "Read 14th data\n",
            "Read 15th data\n",
            "Read 16th data\n",
            "Read 17th data\n",
            "Read 18th data\n",
            "Read 19th data\n",
            "Read 20th data\n",
            "Read 21th data\n",
            "Read 22th data\n"
          ]
        }
      ]
    },
    {
      "cell_type": "code",
      "metadata": {
        "id": "5RUQzbgeyvow",
        "outputId": "7557b569-18a8-4c59-9e1c-6370edbc22db",
        "colab": {
          "base_uri": "https://localhost:8080/",
          "height": 761
        }
      },
      "source": [
        "## The settings are now pre-configured to use the Google dataset\n",
        "#%% Main Parameters\n",
        "# Data\n",
        "data_set = ['google','sine']\n",
        "data_name = data_set[1]\n",
        "import matplotlib.pyplot as plt\n",
        "\n",
        "\n",
        "# Experiments iterations\n",
        "Iteration = 2\n",
        "Sub_Iteration = 3\n",
        "\n",
        "#%% Data Loading\n",
        "seq_length = 25\n",
        "\n",
        "\"\"\"\n",
        "if data_name == 'google':\n",
        "    dataX = google_data_loading(seq_length)\n",
        "elif data_name == 'sine':\n",
        "    No = 10000\n",
        "    F_No = 5\n",
        "    dataX = sine_data_generation(No, seq_length, F_No)\n",
        "\n",
        "print(data_name + ' dataset is ready.')\n",
        "print(dataX[0].shape)\n",
        "\"\"\"\n",
        "\n",
        "fig, axs = plt.subplots(nrows=6, ncols=4, figsize=(15, 12))\n",
        "plt.subplots_adjust(hspace=0.5)\n",
        "fig.suptitle(\"Robotic Arm Data\", fontsize=18, y=0.95)\n",
        "\n",
        "# loop through tickers and axes\n",
        "for ticker, ax in zip(Data_Col, axs.ravel()):\n",
        "    # filter df for ticker and plot on specified axes\n",
        "    df_list[0][ticker].plot(ax=ax)\n",
        "\n",
        "    # chart formatting\n",
        "    ax.set_title(ticker.upper())\n",
        "    #ax.get_legend().remove()\n",
        "    ax.set_xticks([])\n",
        "    ax.set_xlabel(\"\")\n",
        "\n",
        "plt.show()\n",
        "\n",
        "\n"
      ],
      "execution_count": 13,
      "outputs": [
        {
          "output_type": "display_data",
          "data": {
            "image/png": "[encoded data removed]",
            "text/plain": [
              "<Figure size 1080x864 with 24 Axes>"
            ]
          },
          "metadata": {
            "needs_background": "light"
          }
        }
      ]
    },
    {
      "cell_type": "markdown",
      "metadata": {
        "id": "Ps1eyXVvyvo8"
      },
      "source": [
        "Set network parameters & Output initialization"
      ]
    },
    {
      "cell_type": "code",
      "metadata": {
        "id": "ZYiGK2dKyvo-",
        "outputId": "c277e365-dc1c-4bcb-b7e6-d3fe81320253",
        "colab": {
          "base_uri": "https://localhost:8080/"
        }
      },
      "source": [
        "  #%% Newtork Parameters\n",
        "parameters = dict()\n",
        "\n",
        "parameters['hidden_dim'] = len(dataX[0][0,:]) * 4\n",
        "parameters['num_layers'] = 3\n",
        "#parameters['iterations'] = 10000\n",
        "#parameters['iterations'] = 100 # first\n",
        "#parameters['iterations'] = 500 # second\n",
        "parameters['iterations'] = 10 ## Fast Experimentation (please change appropriately)\n",
        "parameters['batch_size'] = 10\n",
        "parameters['module_name'] = 'gru'   # Other options: 'lstm' or 'lstmLN'\n",
        "parameters['z_dim'] = len(dataX[0][0,:]) \n",
        "\n",
        "print('Parameters are ' + str(parameters))\n",
        "\n",
        "#%% Experiments\n",
        "# Output Initialization\n",
        "Discriminative_Score = list()\n",
        "Predictive_Score = list()"
      ],
      "execution_count": 14,
      "outputs": [
        {
          "output_type": "stream",
          "name": "stdout",
          "text": [
            "Parameters are {'hidden_dim': 88, 'num_layers': 3, 'iterations': 10, 'batch_size': 10, 'module_name': 'gru', 'z_dim': 22}\n"
          ]
        }
      ]
    },
    {
      "cell_type": "markdown",
      "metadata": {
        "id": "erpLpktWyvpL"
      },
      "source": [
        "Run TGAN & Evaluate discriminative and predictive scores"
      ]
    },
    {
      "cell_type": "code",
      "metadata": {
        "id": "vFMY6aQvyvpN",
        "outputId": "da8eabe4-add8-4a43-8171-dc2c36ce839a",
        "colab": {
          "base_uri": "https://localhost:8080/"
        }
      },
      "source": [
        "print('Start iterations') \n",
        "## If you want to renormalise the data, you have to use the flag - Normalization_Flag\n",
        "\n",
        "    \n",
        "# Each Iteration\n",
        "for it in range(Iteration):\n",
        "\n",
        "    \n",
        "    # Synthetic Data Generation\n",
        "    dataX_hat = tgan(dataX, parameters)   \n",
        "      \n",
        "    print('Finish Synthetic Data Generation')\n",
        "\n",
        "    #%% Performance Metrics\n",
        "    \n",
        "    # 1. Discriminative Score\n",
        "    Acc = list()\n",
        "    for tt in range(Sub_Iteration):\n",
        "        Temp_Disc = discriminative_score_metrics (dataX, dataX_hat)\n",
        "        Acc.append(Temp_Disc)\n",
        "    \n",
        "    Discriminative_Score.append(np.mean(Acc))\n",
        "    \n",
        "    # 2. Predictive Performance\n",
        "    MAE_All = list()\n",
        "    for tt in range(Sub_Iteration):\n",
        "        MAE_All.append(predictive_score_metrics (dataX, dataX_hat))\n",
        "        \n",
        "    Predictive_Score.append(np.mean(MAE_All))    \n",
        "    \n",
        "print('Finish TGAN iterations')"
      ],
      "execution_count": null,
      "outputs": [
        {
          "output_type": "stream",
          "name": "stdout",
          "text": [
            "Start iterations\n",
            "Start Embedding Network Training\n",
            "step: 0, e_loss: 0.3023\n",
            "Finish Embedding Network Training\n",
            "Start Training with Supervised Loss Only\n",
            "step: 0, s_loss: 0.1384\n",
            "Finish Training with Supervised Loss Only\n",
            "Start Joint Training\n",
            "step: 0, d_loss: 2.3938, g_loss_u: 0.6975, g_loss_s: 0.0636, g_loss_v: 0.1697, e_loss_t0: 0.1828\n"
          ]
        }
      ]
    },
    {
      "cell_type": "code",
      "metadata": {
        "id": "tWUjhuAn0Kyh"
      },
      "source": [
        "import pickle\n",
        "import numpy as np\n",
        "# You can check in again \n",
        "def scale_array(arr):\n",
        "  x_min = arr.min(axis=(1, 2), keepdims=True)\n",
        "  x_max = arr.max(axis=(1, 2), keepdims=True)\n",
        "  arr = (arr - x_min)/(x_max-x_min)\n",
        "  return arr\n",
        "\n",
        "def load_data(file_name=\"pickle.p\"):\n",
        "  arr = pickle.load(open(file_name, \"rb\"))\n",
        "  arr = np.stack(arr)\n",
        "  arr = scale_array(arr)\n",
        "  shape_arr = arr.shape\n",
        "  shape_text = \"{}, shape: samples={}, steps={}, features={}\".format(file_name,*shape_arr)\n",
        "  \n",
        "  print(shape_text)\n",
        "  return arr\n"
      ],
      "execution_count": null,
      "outputs": []
    },
    {
      "cell_type": "code",
      "metadata": {
        "id": "PWnwuvT210Nq"
      },
      "source": [
        "# Only valid with a mounted drive. \n",
        "# import pickle\n",
        "# pickle.dump(dataX_hat, open( \"generated_ts_1.p\", \"wb\" ) )\n",
        "# pickle.dump(dataX, open( \"original_ts.p\", \"wb\" ) )\n",
        "\n",
        "# The order of the data is original, thorough generation (potentially more similar), ..\n",
        "# ..short generation (potentially less similar)\n",
        "# org = load_data(\"original_ts.p\")\n",
        "# gen_1 = load_data(\"generated_ts_1.p\") ## went for 500 iterations\n",
        "# gen_2 = load_data(\"generated_ts_2.p\") ## went for 100 iterations"
      ],
      "execution_count": null,
      "outputs": []
    },
    {
      "cell_type": "markdown",
      "metadata": {
        "id": "qD3OAYlq29_v"
      },
      "source": [
        "Only use this data, if you don't want to wait to generate your own above, otherwise, skip this code block."
      ]
    },
    {
      "cell_type": "code",
      "metadata": {
        "id": "gu7erEPt0bkc"
      },
      "source": [
        "import cloudpickle as cp\n",
        "from urllib.request import urlopen\n",
        "dataX = cp.load(urlopen(\"https://github.com/firmai/tsgan/blob/master/alg/timegan/gendata/original_ts.p?raw=true\")) ##(100 iterations)\n",
        "dataX_hat = cp.load(urlopen(\"https://github.com/firmai/tsgan/blob/master/alg/timegan/gendata/generated_ts_1.p?raw=true\")) ##(500 iterations)\n",
        "dataX_hat_2 = cp.load(urlopen(\"https://github.com/firmai/tsgan/blob/master/alg/timegan/gendata/generated_ts_2.p?raw=true\")) ##(100 iterations)\n"
      ],
      "execution_count": null,
      "outputs": []
    },
    {
      "cell_type": "code",
      "metadata": {
        "id": "v03YniPsCq8F"
      },
      "source": [
        "# Basic Parameters\n",
        "No = len(dataX)\n",
        "data_dim = len(dataX[0][0,:])\n",
        "\n",
        "# Compute Maximum seq length and each seq length\n",
        "dataT = list()\n",
        "Max_Seq_Len = 0\n",
        "for i in range(No):\n",
        "    Max_Seq_Len = max(Max_Seq_Len, len(dataX[i][:,0]))\n",
        "    dataT.append(len(dataX[i][:,0]))\n",
        "\n",
        "def train_test_divide (dataX, dataX_hat, dataT):\n",
        "  \n",
        "    # Divide train/test index\n",
        "    No = len(dataX)\n",
        "    idx = np.random.permutation(No)\n",
        "    train_idx = idx[:int(No*0.8)]\n",
        "    test_idx = idx[int(No*0.8):]\n",
        "    \n",
        "    # Train and Test X\n",
        "    trainX = [dataX[i] for i in train_idx]\n",
        "    trainX_hat = [dataX_hat[i] for i in train_idx]\n",
        "    \n",
        "    testX = [dataX[i] for i in test_idx]\n",
        "    testX_hat = [dataX_hat[i] for i in test_idx]\n",
        "    \n",
        "    # Train and Test T\n",
        "    trainT = [dataT[i] for i in train_idx]\n",
        "    testT = [dataT[i] for i in test_idx]\n",
        "  \n",
        "    return trainX, trainX_hat, testX, testX_hat, trainT, testT\n",
        "    \n",
        "# Train / Test Division\n",
        "trainX, trainX_hat, testX, testX_hat, trainT, testT = train_test_divide (dataX, dataX_hat, dataT)"
      ],
      "execution_count": null,
      "outputs": []
    },
    {
      "cell_type": "markdown",
      "metadata": {
        "id": "Vy6MtMzZyvpX"
      },
      "source": [
        "Visualization (PCA Analysis)"
      ]
    },
    {
      "cell_type": "code",
      "metadata": {
        "id": "jBKQQUOiyvpY",
        "outputId": "3c5e9dad-37df-4aa2-9f75-0defb3825664",
        "colab": {
          "base_uri": "https://localhost:8080/",
          "height": 295
        }
      },
      "source": [
        "PCA_Analysis(dataX, dataX_hat)"
      ],
      "execution_count": null,
      "outputs": [
        {
          "output_type": "display_data",
          "data": {
            "image/png": "[encoded data removed]",
            "text/plain": [
              "<Figure size 432x288 with 1 Axes>"
            ]
          },
          "metadata": {
            "tags": [],
            "needs_background": "light"
          }
        }
      ]
    },
    {
      "cell_type": "markdown",
      "metadata": {
        "id": "bx9hfQbQyvpf"
      },
      "source": [
        "Visualization (t-SNE Analysis)"
      ]
    },
    {
      "cell_type": "code",
      "metadata": {
        "id": "GnwcDPBDyvph",
        "outputId": "c4c37323-cdc9-449e-9558-53e50b7d1a17",
        "colab": {
          "base_uri": "https://localhost:8080/",
          "height": 431
        }
      },
      "source": [
        "tSNE_Analysis(dataX, dataX_hat)"
      ],
      "execution_count": null,
      "outputs": [
        {
          "output_type": "stream",
          "text": [
            "[t-SNE] Computing 121 nearest neighbors...\n",
            "[t-SNE] Indexed 2000 samples in 0.005s...\n",
            "[t-SNE] Computed neighbors for 2000 samples in 0.098s...\n",
            "[t-SNE] Computed conditional probabilities for sample 1000 / 2000\n",
            "[t-SNE] Computed conditional probabilities for sample 2000 / 2000\n",
            "[t-SNE] Mean sigma: 0.027531\n",
            "[t-SNE] KL divergence after 250 iterations with early exaggeration: 54.153831\n",
            "[t-SNE] KL divergence after 300 iterations: 0.727049\n"
          ],
          "name": "stdout"
        },
        {
          "output_type": "display_data",
          "data": {
            "image/png": "[encoded data removed]",
            "text/plain": [
              "<Figure size 432x288 with 1 Axes>"
            ]
          },
          "metadata": {
            "tags": [],
            "needs_background": "light"
          }
        }
      ]
    },
    {
      "cell_type": "code",
      "metadata": {
        "id": "QvjM1s5YMD0Z",
        "outputId": "f52c8b50-21f3-4761-a8df-5bc3f2b31d2f",
        "colab": {
          "base_uri": "https://localhost:8080/",
          "height": 204
        }
      },
      "source": [
        "from sklearn import metrics\n",
        "from matplotlib import pyplot as plt\n",
        "import sklearn as sk\n",
        "import pandas as pd\n",
        "\n",
        "def recurrence_plot(s, eps=None, steps=None):\n",
        "    if eps==None: eps=0.1\n",
        "    if steps==None: steps=10\n",
        "    d = sk.metrics.pairwise.pairwise_distances(s)\n",
        "    d = np.floor(d / eps)\n",
        "    d[d > steps] = steps\n",
        "    #Z = squareform(d)\n",
        "    return d\n",
        "\n",
        "\n",
        "newarray = np.dstack(dataX)\n",
        "newarray = newarray.mean(axis=2)\n",
        "real_df = pd.DataFrame(newarray); real_df.head()"
      ],
      "execution_count": null,
      "outputs": [
        {
          "output_type": "execute_result",
          "data": {
            "text/html": [
              "<div>\n",
              "<style scoped>\n",
              "    .dataframe tbody tr th:only-of-type {\n",
              "        vertical-align: middle;\n",
              "    }\n",
              "\n",
              "    .dataframe tbody tr th {\n",
              "        vertical-align: top;\n",
              "    }\n",
              "\n",
              "    .dataframe thead th {\n",
              "        text-align: right;\n",
              "    }\n",
              "</style>\n",
              "<table border=\"1\" class=\"dataframe\">\n",
              "  <thead>\n",
              "    <tr style=\"text-align: right;\">\n",
              "      <th></th>\n",
              "      <th>0</th>\n",
              "      <th>1</th>\n",
              "      <th>2</th>\n",
              "      <th>3</th>\n",
              "      <th>4</th>\n",
              "      <th>5</th>\n",
              "    </tr>\n",
              "  </thead>\n",
              "  <tbody>\n",
              "    <tr>\n",
              "      <th>0</th>\n",
              "      <td>0.332789</td>\n",
              "      <td>0.334682</td>\n",
              "      <td>0.336073</td>\n",
              "      <td>0.333233</td>\n",
              "      <td>0.333233</td>\n",
              "      <td>0.088942</td>\n",
              "    </tr>\n",
              "    <tr>\n",
              "      <th>1</th>\n",
              "      <td>0.332534</td>\n",
              "      <td>0.334426</td>\n",
              "      <td>0.335815</td>\n",
              "      <td>0.332978</td>\n",
              "      <td>0.332978</td>\n",
              "      <td>0.088965</td>\n",
              "    </tr>\n",
              "    <tr>\n",
              "      <th>2</th>\n",
              "      <td>0.332277</td>\n",
              "      <td>0.334170</td>\n",
              "      <td>0.335555</td>\n",
              "      <td>0.332721</td>\n",
              "      <td>0.332721</td>\n",
              "      <td>0.088986</td>\n",
              "    </tr>\n",
              "    <tr>\n",
              "      <th>3</th>\n",
              "      <td>0.332019</td>\n",
              "      <td>0.333912</td>\n",
              "      <td>0.335294</td>\n",
              "      <td>0.332464</td>\n",
              "      <td>0.332464</td>\n",
              "      <td>0.089018</td>\n",
              "    </tr>\n",
              "    <tr>\n",
              "      <th>4</th>\n",
              "      <td>0.331762</td>\n",
              "      <td>0.333653</td>\n",
              "      <td>0.335033</td>\n",
              "      <td>0.332205</td>\n",
              "      <td>0.332205</td>\n",
              "      <td>0.089047</td>\n",
              "    </tr>\n",
              "  </tbody>\n",
              "</table>\n",
              "</div>"
            ],
            "text/plain": [
              "          0         1         2         3         4         5\n",
              "0  0.332789  0.334682  0.336073  0.333233  0.333233  0.088942\n",
              "1  0.332534  0.334426  0.335815  0.332978  0.332978  0.088965\n",
              "2  0.332277  0.334170  0.335555  0.332721  0.332721  0.088986\n",
              "3  0.332019  0.333912  0.335294  0.332464  0.332464  0.089018\n",
              "4  0.331762  0.333653  0.335033  0.332205  0.332205  0.089047"
            ]
          },
          "metadata": {
            "tags": []
          },
          "execution_count": 46
        }
      ]
    },
    {
      "cell_type": "markdown",
      "metadata": {
        "id": "GUuFrwet23N-"
      },
      "source": [
        "Recurrence Plots"
      ]
    },
    {
      "cell_type": "code",
      "metadata": {
        "id": "o-xH-TtJQSbS",
        "outputId": "52e0423b-d560-4e85-af54-6bf64b03a647",
        "colab": {
          "base_uri": "https://localhost:8080/",
          "height": 445
        }
      },
      "source": [
        "## Does seem to take all the values in to account \n",
        "import matplotlib.pyplot as plt\n",
        "\n",
        "fig = plt.figure(figsize=(15,14))\n",
        "ax = fig.add_subplot(1, 2, 2)\n",
        "ax.imshow(recurrence_plot(newarray,0.001))\n",
        "    "
      ],
      "execution_count": null,
      "outputs": [
        {
          "output_type": "execute_result",
          "data": {
            "text/plain": [
              "<matplotlib.image.AxesImage at 0x7fd6282b1a90>"
            ]
          },
          "metadata": {
            "tags": []
          },
          "execution_count": 47
        },
        {
          "output_type": "display_data",
          "data": {
            "image/png": "[encoded data removed]",
            "text/plain": [
              "<Figure size 1080x1008 with 1 Axes>"
            ]
          },
          "metadata": {
            "tags": [],
            "needs_background": "light"
          }
        }
      ]
    },
    {
      "cell_type": "code",
      "metadata": {
        "id": "iGkuNfVvVklk",
        "outputId": "ff1cd5b9-f01d-4414-953e-eac8dbfaec9d",
        "colab": {
          "base_uri": "https://localhost:8080/",
          "height": 204
        }
      },
      "source": [
        "import pandas as pd\n",
        "newarray_gen = np.dstack(dataX_hat)\n",
        "newarray_gen = newarray_gen.mean(axis=2)\n",
        "fake_df = pd.DataFrame(newarray_gen); fake_df.head()\n"
      ],
      "execution_count": null,
      "outputs": [
        {
          "output_type": "execute_result",
          "data": {
            "text/html": [
              "<div>\n",
              "<style scoped>\n",
              "    .dataframe tbody tr th:only-of-type {\n",
              "        vertical-align: middle;\n",
              "    }\n",
              "\n",
              "    .dataframe tbody tr th {\n",
              "        vertical-align: top;\n",
              "    }\n",
              "\n",
              "    .dataframe thead th {\n",
              "        text-align: right;\n",
              "    }\n",
              "</style>\n",
              "<table border=\"1\" class=\"dataframe\">\n",
              "  <thead>\n",
              "    <tr style=\"text-align: right;\">\n",
              "      <th></th>\n",
              "      <th>0</th>\n",
              "      <th>1</th>\n",
              "      <th>2</th>\n",
              "      <th>3</th>\n",
              "      <th>4</th>\n",
              "      <th>5</th>\n",
              "    </tr>\n",
              "  </thead>\n",
              "  <tbody>\n",
              "    <tr>\n",
              "      <th>0</th>\n",
              "      <td>0.379898</td>\n",
              "      <td>0.379363</td>\n",
              "      <td>0.382255</td>\n",
              "      <td>0.380587</td>\n",
              "      <td>0.381812</td>\n",
              "      <td>0.113793</td>\n",
              "    </tr>\n",
              "    <tr>\n",
              "      <th>1</th>\n",
              "      <td>0.351299</td>\n",
              "      <td>0.352439</td>\n",
              "      <td>0.355653</td>\n",
              "      <td>0.345863</td>\n",
              "      <td>0.348911</td>\n",
              "      <td>0.121244</td>\n",
              "    </tr>\n",
              "    <tr>\n",
              "      <th>2</th>\n",
              "      <td>0.358892</td>\n",
              "      <td>0.361680</td>\n",
              "      <td>0.361088</td>\n",
              "      <td>0.356695</td>\n",
              "      <td>0.362021</td>\n",
              "      <td>0.086519</td>\n",
              "    </tr>\n",
              "    <tr>\n",
              "      <th>3</th>\n",
              "      <td>0.356329</td>\n",
              "      <td>0.360158</td>\n",
              "      <td>0.357267</td>\n",
              "      <td>0.354473</td>\n",
              "      <td>0.356844</td>\n",
              "      <td>0.082524</td>\n",
              "    </tr>\n",
              "    <tr>\n",
              "      <th>4</th>\n",
              "      <td>0.355124</td>\n",
              "      <td>0.358488</td>\n",
              "      <td>0.356185</td>\n",
              "      <td>0.354370</td>\n",
              "      <td>0.354718</td>\n",
              "      <td>0.079493</td>\n",
              "    </tr>\n",
              "  </tbody>\n",
              "</table>\n",
              "</div>"
            ],
            "text/plain": [
              "          0         1         2         3         4         5\n",
              "0  0.379898  0.379363  0.382255  0.380587  0.381812  0.113793\n",
              "1  0.351299  0.352439  0.355653  0.345863  0.348911  0.121244\n",
              "2  0.358892  0.361680  0.361088  0.356695  0.362021  0.086519\n",
              "3  0.356329  0.360158  0.357267  0.354473  0.356844  0.082524\n",
              "4  0.355124  0.358488  0.356185  0.354370  0.354718  0.079493"
            ]
          },
          "metadata": {
            "tags": []
          },
          "execution_count": 48
        }
      ]
    },
    {
      "cell_type": "code",
      "metadata": {
        "id": "5FPLfU4gWN9l",
        "outputId": "620e57ec-7cc7-46b7-8007-0fcf93b88974",
        "colab": {
          "base_uri": "https://localhost:8080/",
          "height": 445
        }
      },
      "source": [
        "## Does seem to take all the values in to account \n",
        "import matplotlib.pyplot as plt\n",
        "\n",
        "fig = plt.figure(figsize=(15,14))\n",
        "ax = fig.add_subplot(1, 2, 2)\n",
        "ax.imshow(recurrence_plot(newarray_gen,0.001))\n",
        "  "
      ],
      "execution_count": null,
      "outputs": [
        {
          "output_type": "execute_result",
          "data": {
            "text/plain": [
              "<matplotlib.image.AxesImage at 0x7fd628130ac8>"
            ]
          },
          "metadata": {
            "tags": []
          },
          "execution_count": 49
        },
        {
          "output_type": "display_data",
          "data": {
            "image/png": "[encoded data removed]",
            "text/plain": [
              "<Figure size 1080x1008 with 1 Axes>"
            ]
          },
          "metadata": {
            "tags": [],
            "needs_background": "light"
          }
        }
      ]
    },
    {
      "cell_type": "code",
      "metadata": {
        "id": "q9VQeqMgWQbM",
        "outputId": "81ba3133-13fe-4d5e-ce0a-3a37c0bd6ccb",
        "colab": {
          "base_uri": "https://localhost:8080/",
          "height": 206
        }
      },
      "source": [
        "diffs = pd.DataFrame(real_df-fake_df); diffs.head()"
      ],
      "execution_count": null,
      "outputs": [
        {
          "output_type": "execute_result",
          "data": {
            "text/html": [
              "<div>\n",
              "<style scoped>\n",
              "    .dataframe tbody tr th:only-of-type {\n",
              "        vertical-align: middle;\n",
              "    }\n",
              "\n",
              "    .dataframe tbody tr th {\n",
              "        vertical-align: top;\n",
              "    }\n",
              "\n",
              "    .dataframe thead th {\n",
              "        text-align: right;\n",
              "    }\n",
              "</style>\n",
              "<table border=\"1\" class=\"dataframe\">\n",
              "  <thead>\n",
              "    <tr style=\"text-align: right;\">\n",
              "      <th></th>\n",
              "      <th>0</th>\n",
              "      <th>1</th>\n",
              "      <th>2</th>\n",
              "      <th>3</th>\n",
              "      <th>4</th>\n",
              "      <th>5</th>\n",
              "    </tr>\n",
              "  </thead>\n",
              "  <tbody>\n",
              "    <tr>\n",
              "      <th>0</th>\n",
              "      <td>-0.006896</td>\n",
              "      <td>-0.001698</td>\n",
              "      <td>-0.010295</td>\n",
              "      <td>-0.004992</td>\n",
              "      <td>-0.000087</td>\n",
              "      <td>0.018735</td>\n",
              "    </tr>\n",
              "    <tr>\n",
              "      <th>1</th>\n",
              "      <td>0.028039</td>\n",
              "      <td>0.007941</td>\n",
              "      <td>0.014853</td>\n",
              "      <td>0.019870</td>\n",
              "      <td>0.027117</td>\n",
              "      <td>0.055140</td>\n",
              "    </tr>\n",
              "    <tr>\n",
              "      <th>2</th>\n",
              "      <td>0.024614</td>\n",
              "      <td>0.021032</td>\n",
              "      <td>0.037205</td>\n",
              "      <td>0.024974</td>\n",
              "      <td>0.031501</td>\n",
              "      <td>0.050543</td>\n",
              "    </tr>\n",
              "    <tr>\n",
              "      <th>3</th>\n",
              "      <td>0.022666</td>\n",
              "      <td>0.028007</td>\n",
              "      <td>0.024181</td>\n",
              "      <td>0.023683</td>\n",
              "      <td>0.022621</td>\n",
              "      <td>0.043545</td>\n",
              "    </tr>\n",
              "    <tr>\n",
              "      <th>4</th>\n",
              "      <td>0.024267</td>\n",
              "      <td>0.028920</td>\n",
              "      <td>0.023918</td>\n",
              "      <td>0.032825</td>\n",
              "      <td>0.026182</td>\n",
              "      <td>0.034904</td>\n",
              "    </tr>\n",
              "  </tbody>\n",
              "</table>\n",
              "</div>"
            ],
            "text/plain": [
              "          0         1         2         3         4         5\n",
              "0 -0.006896 -0.001698 -0.010295 -0.004992 -0.000087  0.018735\n",
              "1  0.028039  0.007941  0.014853  0.019870  0.027117  0.055140\n",
              "2  0.024614  0.021032  0.037205  0.024974  0.031501  0.050543\n",
              "3  0.022666  0.028007  0.024181  0.023683  0.022621  0.043545\n",
              "4  0.024267  0.028920  0.023918  0.032825  0.026182  0.034904"
            ]
          },
          "metadata": {
            "tags": []
          },
          "execution_count": 24
        }
      ]
    },
    {
      "cell_type": "code",
      "metadata": {
        "id": "xcubV7CwWe1h",
        "outputId": "0886e0db-fb9e-40a3-dfea-983b6b6e2d70",
        "colab": {
          "base_uri": "https://localhost:8080/",
          "height": 287
        }
      },
      "source": [
        "diffs[0].plot()"
      ],
      "execution_count": null,
      "outputs": [
        {
          "output_type": "execute_result",
          "data": {
            "text/plain": [
              "<matplotlib.axes._subplots.AxesSubplot at 0x7f8c0557aa20>"
            ]
          },
          "metadata": {
            "tags": []
          },
          "execution_count": 25
        },
        {
          "output_type": "display_data",
          "data": {
            "image/png": "[encoded data removed]",
            "text/plain": [
              "<Figure size 432x288 with 1 Axes>"
            ]
          },
          "metadata": {
            "tags": [],
            "needs_background": "light"
          }
        }
      ]
    },
    {
      "cell_type": "code",
      "metadata": {
        "id": "Rgu_gIjPFa-J",
        "outputId": "ab8c7af6-0caf-430b-8341-40f8d2a50dd0",
        "colab": {
          "base_uri": "https://localhost:8080/",
          "height": 283
        }
      },
      "source": [
        "diffs[5].plot()"
      ],
      "execution_count": null,
      "outputs": [
        {
          "output_type": "execute_result",
          "data": {
            "text/plain": [
              "<matplotlib.axes._subplots.AxesSubplot at 0x7f8c078e11d0>"
            ]
          },
          "metadata": {
            "tags": []
          },
          "execution_count": 26
        },
        {
          "output_type": "display_data",
          "data": {
            "image/png": "[encoded data removed]",
            "text/plain": [
              "<Figure size 432x288 with 1 Axes>"
            ]
          },
          "metadata": {
            "tags": [],
            "needs_background": "light"
          }
        }
      ]
    },
    {
      "cell_type": "code",
      "metadata": {
        "id": "l0PmBhiNX5ST",
        "outputId": "ff66a470-3048-4cd3-804a-7ec1b4cdd75b",
        "colab": {
          "base_uri": "https://localhost:8080/",
          "height": 237
        }
      },
      "source": [
        "fake_df.corr()"
      ],
      "execution_count": null,
      "outputs": [
        {
          "output_type": "execute_result",
          "data": {
            "text/html": [
              "<div>\n",
              "<style scoped>\n",
              "    .dataframe tbody tr th:only-of-type {\n",
              "        vertical-align: middle;\n",
              "    }\n",
              "\n",
              "    .dataframe tbody tr th {\n",
              "        vertical-align: top;\n",
              "    }\n",
              "\n",
              "    .dataframe thead th {\n",
              "        text-align: right;\n",
              "    }\n",
              "</style>\n",
              "<table border=\"1\" class=\"dataframe\">\n",
              "  <thead>\n",
              "    <tr style=\"text-align: right;\">\n",
              "      <th></th>\n",
              "      <th>0</th>\n",
              "      <th>1</th>\n",
              "      <th>2</th>\n",
              "      <th>3</th>\n",
              "      <th>4</th>\n",
              "      <th>5</th>\n",
              "    </tr>\n",
              "  </thead>\n",
              "  <tbody>\n",
              "    <tr>\n",
              "      <th>0</th>\n",
              "      <td>1.000000</td>\n",
              "      <td>0.921732</td>\n",
              "      <td>0.961889</td>\n",
              "      <td>0.956579</td>\n",
              "      <td>0.973921</td>\n",
              "      <td>0.364166</td>\n",
              "    </tr>\n",
              "    <tr>\n",
              "      <th>1</th>\n",
              "      <td>0.921732</td>\n",
              "      <td>1.000000</td>\n",
              "      <td>0.943739</td>\n",
              "      <td>0.940208</td>\n",
              "      <td>0.899829</td>\n",
              "      <td>0.228233</td>\n",
              "    </tr>\n",
              "    <tr>\n",
              "      <th>2</th>\n",
              "      <td>0.961889</td>\n",
              "      <td>0.943739</td>\n",
              "      <td>1.000000</td>\n",
              "      <td>0.945899</td>\n",
              "      <td>0.962571</td>\n",
              "      <td>0.355501</td>\n",
              "    </tr>\n",
              "    <tr>\n",
              "      <th>3</th>\n",
              "      <td>0.956579</td>\n",
              "      <td>0.940208</td>\n",
              "      <td>0.945899</td>\n",
              "      <td>1.000000</td>\n",
              "      <td>0.970825</td>\n",
              "      <td>0.488641</td>\n",
              "    </tr>\n",
              "    <tr>\n",
              "      <th>4</th>\n",
              "      <td>0.973921</td>\n",
              "      <td>0.899829</td>\n",
              "      <td>0.962571</td>\n",
              "      <td>0.970825</td>\n",
              "      <td>1.000000</td>\n",
              "      <td>0.516457</td>\n",
              "    </tr>\n",
              "    <tr>\n",
              "      <th>5</th>\n",
              "      <td>0.364166</td>\n",
              "      <td>0.228233</td>\n",
              "      <td>0.355501</td>\n",
              "      <td>0.488641</td>\n",
              "      <td>0.516457</td>\n",
              "      <td>1.000000</td>\n",
              "    </tr>\n",
              "  </tbody>\n",
              "</table>\n",
              "</div>"
            ],
            "text/plain": [
              "          0         1         2         3         4         5\n",
              "0  1.000000  0.921732  0.961889  0.956579  0.973921  0.364166\n",
              "1  0.921732  1.000000  0.943739  0.940208  0.899829  0.228233\n",
              "2  0.961889  0.943739  1.000000  0.945899  0.962571  0.355501\n",
              "3  0.956579  0.940208  0.945899  1.000000  0.970825  0.488641\n",
              "4  0.973921  0.899829  0.962571  0.970825  1.000000  0.516457\n",
              "5  0.364166  0.228233  0.355501  0.488641  0.516457  1.000000"
            ]
          },
          "metadata": {
            "tags": []
          },
          "execution_count": 27
        }
      ]
    },
    {
      "cell_type": "code",
      "metadata": {
        "id": "2ECUA_H1XNL3",
        "outputId": "a2d65676-4053-48f6-c91d-c4108654a0be",
        "colab": {
          "base_uri": "https://localhost:8080/",
          "height": 237
        }
      },
      "source": [
        "real_df.corr()"
      ],
      "execution_count": null,
      "outputs": [
        {
          "output_type": "execute_result",
          "data": {
            "text/html": [
              "<div>\n",
              "<style scoped>\n",
              "    .dataframe tbody tr th:only-of-type {\n",
              "        vertical-align: middle;\n",
              "    }\n",
              "\n",
              "    .dataframe tbody tr th {\n",
              "        vertical-align: top;\n",
              "    }\n",
              "\n",
              "    .dataframe thead th {\n",
              "        text-align: right;\n",
              "    }\n",
              "</style>\n",
              "<table border=\"1\" class=\"dataframe\">\n",
              "  <thead>\n",
              "    <tr style=\"text-align: right;\">\n",
              "      <th></th>\n",
              "      <th>0</th>\n",
              "      <th>1</th>\n",
              "      <th>2</th>\n",
              "      <th>3</th>\n",
              "      <th>4</th>\n",
              "      <th>5</th>\n",
              "    </tr>\n",
              "  </thead>\n",
              "  <tbody>\n",
              "    <tr>\n",
              "      <th>0</th>\n",
              "      <td>1.000000</td>\n",
              "      <td>0.999998</td>\n",
              "      <td>0.999998</td>\n",
              "      <td>0.999997</td>\n",
              "      <td>0.999997</td>\n",
              "      <td>-0.989726</td>\n",
              "    </tr>\n",
              "    <tr>\n",
              "      <th>1</th>\n",
              "      <td>0.999998</td>\n",
              "      <td>1.000000</td>\n",
              "      <td>0.999999</td>\n",
              "      <td>0.999999</td>\n",
              "      <td>0.999999</td>\n",
              "      <td>-0.989820</td>\n",
              "    </tr>\n",
              "    <tr>\n",
              "      <th>2</th>\n",
              "      <td>0.999998</td>\n",
              "      <td>0.999999</td>\n",
              "      <td>1.000000</td>\n",
              "      <td>0.999999</td>\n",
              "      <td>0.999999</td>\n",
              "      <td>-0.989880</td>\n",
              "    </tr>\n",
              "    <tr>\n",
              "      <th>3</th>\n",
              "      <td>0.999997</td>\n",
              "      <td>0.999999</td>\n",
              "      <td>0.999999</td>\n",
              "      <td>1.000000</td>\n",
              "      <td>1.000000</td>\n",
              "      <td>-0.989929</td>\n",
              "    </tr>\n",
              "    <tr>\n",
              "      <th>4</th>\n",
              "      <td>0.999997</td>\n",
              "      <td>0.999999</td>\n",
              "      <td>0.999999</td>\n",
              "      <td>1.000000</td>\n",
              "      <td>1.000000</td>\n",
              "      <td>-0.989929</td>\n",
              "    </tr>\n",
              "    <tr>\n",
              "      <th>5</th>\n",
              "      <td>-0.989726</td>\n",
              "      <td>-0.989820</td>\n",
              "      <td>-0.989880</td>\n",
              "      <td>-0.989929</td>\n",
              "      <td>-0.989929</td>\n",
              "      <td>1.000000</td>\n",
              "    </tr>\n",
              "  </tbody>\n",
              "</table>\n",
              "</div>"
            ],
            "text/plain": [
              "          0         1         2         3         4         5\n",
              "0  1.000000  0.999998  0.999998  0.999997  0.999997 -0.989726\n",
              "1  0.999998  1.000000  0.999999  0.999999  0.999999 -0.989820\n",
              "2  0.999998  0.999999  1.000000  0.999999  0.999999 -0.989880\n",
              "3  0.999997  0.999999  0.999999  1.000000  1.000000 -0.989929\n",
              "4  0.999997  0.999999  0.999999  1.000000  1.000000 -0.989929\n",
              "5 -0.989726 -0.989820 -0.989880 -0.989929 -0.989929  1.000000"
            ]
          },
          "metadata": {
            "tags": []
          },
          "execution_count": 28
        }
      ]
    },
    {
      "cell_type": "markdown",
      "metadata": {
        "id": "rtMvP1HhiFof"
      },
      "source": [
        "For further similarity and measures and visualisations see this [Colab](https://colab.research.google.com/drive/1QmadgT9cZ-Bz4nIwHhknLfMNKCBwaI1_?usp=sharing) notebook."
      ]
    },
    {
      "cell_type": "code",
      "metadata": {
        "id": "uQcXco9aiUKG"
      },
      "source": [
        ""
      ],
      "execution_count": null,
      "outputs": []
    }
  ]
}