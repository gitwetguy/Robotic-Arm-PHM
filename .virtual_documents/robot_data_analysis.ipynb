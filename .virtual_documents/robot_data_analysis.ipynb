import pandas as pd
import matplotlib.pyplot as plt
import os
import rbarm_metric as rm

working_path = os.getcwd()
dataset_path = os.path.join(working_path,"Dataset")

task1_raw_path = os.path.join(dataset_path,"Task1","RawData")


dir_list = os.listdir(task1_raw_path)

df_test1 = pd.read_csv(os.path.join(task1_raw_path,dir_list[0]),skiprows=[i for i in range(10)])
df_test2 = pd.read_csv(os.path.join(task1_raw_path,dir_list[1]),skiprows=[i for i in range(10)])



for i in range(1,14,1):
    plt.plot(df_test1.iloc[:,i].values)
    plt.plot(df_test2.iloc[:,i].values)
    plt.title(df_test1.columns[i],fontsize=20)
    #print(df.columns[i])
    plt.show()
    
    



rm.poseError()





import os,glob
Task1_test_1_path = os.path.join(dataset_path,"Task1","RawData")
glob.glob(os.path.join(Task1_test_1_path,"*.csv"))


import pandas as pd
import matplotlib.pyplot as plt
import os,glob
import rbarm_metric as rm


working_path = os.getcwd()
dataset_path = os.path.join(working_path,"Dataset")

Task1_mean10Hz_path = os.path.join(dataset_path,"Task1","Task1_mean10Hz.csv")
Task1_test_1_path = os.path.join(dataset_path,"Task1","RawData")



Task1_mean10Hz = pd.read_csv(Task1_mean10Hz_path,skiprows=[i for i in range(10)])

Error_list = []
for test_csv in glob.glob(os.path.join(Task1_test_1_path,"*.csv")):
    
    #print()
    Task1_test = pd.read_csv(test_csv,skiprows=[i for i in range(10)])
    EuclideanError = rm.euclideanError(Task1_mean10Hz.values,Task1_test.values)
    Task1_mean10Hz.shape
    RotationError = rm.rotationError(Task1_mean10Hz.values,Task1_test.values)
    PoseError = rm.poseError(Task1_mean10Hz.values,Task1_test.values)
    Error_list.append([EuclideanError,RotationError,PoseError])
    break
    
    #print("euclideanError",rm.euclideanError(Task1_mean10Hz.values,Task1_test.values))
    #print("rotationError",rm.rotationError(Task1_mean10Hz.values,Task1_test.values))
    #print("poseError",rm.poseError(Task1_mean10Hz.values,Task1_test.values))

"""
#print(Error_list)
Error_df = pd.DataFrame(Error_list,columns=["EuclideanError","RotationError","PoseError"]).fillna(method="ffill")
plt.plot(Error_df.iloc[:,0])
plt.title("EuclideanError")
plt.show()
plt.plot(Error_df.iloc[:,1])
plt.title("RotationError")
plt.show()
plt.plot(Error_df.iloc[:,2])
plt.title("PoseError")
plt.show()



#print("euclideanError",rm.euclideanError(Task1_mean10Hz.values,Task1_test1.values))
#print("rotationError",rm.rotationError(Task1_mean10Hz.values,Task1_test1.values))
#print("poseError",rm.poseError(Task1_mean10Hz.values,Task1_test1.values))
#print("velocityError",rm.velocityError(Task1_mean10Hz.values,Task1_test1.values))
#print("contactForceError",rm.contactForceError(Task1_mean10Hz.values,Task1_test1.values))
"""



Task1_test.shape


import pandas as pd
import matplotlib.pyplot as plt
import os,glob
import rbarm_metric as rm


meanSim = rm.readSim("E:/Server_mantain/robotic_arm/Dataset/Task2/RawData/task2_test_1.csv")
meanGroundtruth = rm.readGroundtruth("E:/Server_mantain/robotic_arm/Dataset/Task2/Task2_mean10Hz.csv",meanSim)
RotationError = rm.rotationError(meanGroundtruth,meanSim)
print(RotationError)


import pandas as pd
import matplotlib.pyplot as plt
import os

working_path = os.getcwd()
dataset_path = os.path.join(working_path,"Dataset")

task1_raw_path = os.path.join(dataset_path,"Task1","RawData")

dir_list = os.listdir(task1_raw_path)

df_test1 = pd.read_csv(os.path.join(task1_raw_path,dir_list[0]),skiprows=[i for i in range(10)])
df_test2 = pd.read_csv(os.path.join(task1_raw_path,dir_list[-1]),skiprows=[i for i in range(10)])



for i in range(1,14,1):
    plt.plot(df_test1.iloc[:,i].values)
    plt.plot(df_test2.iloc[:,i].values)
    plt.title(df_test1.columns[i],fontsize=20)
    #print(df.columns[i])
    plt.show()
    
    

fig = plt.figure()
ax = fig.add_subplot(111, projection='3d')
ax.plot_trisurf(df_test1.iloc[:,1].values, df_test1.iloc[:,2].values, df_test1.iloc[:,3].values, color='white', edgecolors='grey', alpha=0.5)
ax.scatter(df_test1.iloc[:,1].values, df_test1.iloc[:,2].values, df_test1.iloc[:,3].values, c='red')
ax.scatter(df_test2.iloc[:,1].values, df_test2.iloc[:,2].values, df_test2.iloc[:,3].values, c='blue')
plt.show()

"""
fig = plt.figure()
ax = fig.add_subplot(111, projection='3d')
ax.plot_trisurf(df.iloc[:,5].values, df.iloc[:,6].values, df.iloc[:,7].values, color='white', edgecolors='grey', alpha=0.5)
ax.scatter(df.iloc[:,5].values, df.iloc[:,6].values, df.iloc[:,7].values, c='red')
plt.show()
"""


import pandas as pd
import matplotlib.pyplot as plt
import os

working_path = os.getcwd()
dataset_path = os.path.join(working_path,"Dataset")

task1_raw_path = os.path.join(dataset_path,"Task1","RawData")
task1_mean_path = os.path.join(dataset_path,"Task1","Task1_mean10Hz.csv")


dir_list = os.listdir(task1_raw_path)

df_test1 = pd.read_csv(os.path.join(task1_raw_path,dir_list[0]),skiprows=[i for i in range(10)])
df_mean = pd.read_csv(task1_mean_path,skiprows=[i for i in range(10)])



for i in range(1,14,1):
    #plt.plot(df_test1.iloc[:,i].values)
    plt.plot(df_mean.iloc[:,i].values)
    plt.title(df_mean.columns[i],fontsize=20)
    #print(df.columns[i])
    plt.show()
    
    

fig = plt.figure()
ax = fig.add_subplot(111, projection='3d')
ax.plot_trisurf(df_test1.iloc[:,1].values, df_test1.iloc[:,2].values, df_test1.iloc[:,3].values, color='white', edgecolors='grey', alpha=0.5)
ax.scatter(df_test1.iloc[:,1].values, df_test1.iloc[:,2].values, df_test1.iloc[:,3].values, c='red')
ax.scatter(df_mean.iloc[:,1].values, df_mean.iloc[:,2].values, df_mean.iloc[:,3].values, c='blue')
plt.show()

"""
fig = plt.figure()
ax = fig.add_subplot(111, projection='3d')
ax.plot_trisurf(df.iloc[:,5].values, df.iloc[:,6].values, df.iloc[:,7].values, color='white', edgecolors='grey', alpha=0.5)
ax.scatter(df.iloc[:,5].values, df.iloc[:,6].values, df.iloc[:,7].values, c='red')
plt.show()
"""


import pandas as pd
import matplotlib.pyplot as plt
import os
import rbarm_metric as rm

working_path = os.getcwd()
dataset_path = os.path.join(working_path,"Dataset")

task1_raw_path = os.path.join(dataset_path,"Task1","RawData")

dir_list = os.listdir(task1_raw_path)

df_test1 = pd.read_csv(os.path.join(task1_raw_path,dir_list[0]),skiprows=[i for i in range(10)])
#df_test2 = pd.read_csv(os.path.join(task1_raw_path,dir_list[-1]),skiprows=[i for i in range(10)])

d = df_test1.iloc[10,1:5].values
Rotation_Matrix = rm.RfromQuat(d[3],d[0],d[1],d[2])
Euler_angles = rm.EulerfromQuat(d[3],d[0],d[1],d[2])


print("Rotation_Matrix : \n{}".format(Rotation_Matrix))
print("Euler_angles : \n{}".format(Euler_angles))




